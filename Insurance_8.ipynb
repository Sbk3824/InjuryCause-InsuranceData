{
 "cells": [
  {
   "cell_type": "code",
   "execution_count": 342,
   "metadata": {},
   "outputs": [
    {
     "name": "stdout",
     "output_type": "stream",
     "text": [
      "Working Directory: C:\\Users\\SUJITH KUMAR\\Downloads\\Insurance-master\n"
     ]
    }
   ],
   "source": [
    "import os\n",
    "print('Working Directory: {}'.format(os.getcwd()))"
   ]
  },
  {
   "cell_type": "markdown",
   "metadata": {},
   "source": [
    "## Data Import "
   ]
  },
  {
   "cell_type": "code",
   "execution_count": 343,
   "metadata": {},
   "outputs": [
    {
     "name": "stdout",
     "output_type": "stream",
     "text": [
      "['Sheet1']\n"
     ]
    }
   ],
   "source": [
    "import pandas as pd\n",
    "import numpy as np\n",
    "\n",
    "data = pd.ExcelFile('Data-All.xlsx')\n",
    "print(data.sheet_names)\n",
    "df1 = data.parse('Sheet1')\n",
    "#df1.info()"
   ]
  },
  {
   "cell_type": "code",
   "execution_count": 344,
   "metadata": {},
   "outputs": [
    {
     "name": "stdout",
     "output_type": "stream",
     "text": [
      "Shape of Data: (39782, 34)\n",
      "Dimentions of data: 2\n",
      "Data Index: RangeIndex(start=0, stop=39782, step=1)\n"
     ]
    }
   ],
   "source": [
    "print('Shape of Data: {}'.format(df1.shape))\n",
    "print('Dimentions of data:',df1.ndim)\n",
    "print('Data Index:',df1.index)"
   ]
  },
  {
   "cell_type": "code",
   "execution_count": 345,
   "metadata": {},
   "outputs": [],
   "source": [
    "# Replace the spaces in clumn names to underscore and convert column headers to lower case\n",
    "\n",
    "df1.columns = df1.columns.str.replace(' ','_')\n",
    "df1.columns = df1.columns.str.lower()"
   ]
  },
  {
   "cell_type": "code",
   "execution_count": 346,
   "metadata": {},
   "outputs": [
    {
     "data": {
      "text/html": [
       "<div>\n",
       "<style scoped>\n",
       "    .dataframe tbody tr th:only-of-type {\n",
       "        vertical-align: middle;\n",
       "    }\n",
       "\n",
       "    .dataframe tbody tr th {\n",
       "        vertical-align: top;\n",
       "    }\n",
       "\n",
       "    .dataframe thead th {\n",
       "        text-align: right;\n",
       "    }\n",
       "</style>\n",
       "<table border=\"1\" class=\"dataframe\">\n",
       "  <thead>\n",
       "    <tr style=\"text-align: right;\">\n",
       "      <th></th>\n",
       "      <th>claim</th>\n",
       "      <th>effective_year</th>\n",
       "      <th>account</th>\n",
       "      <th>market</th>\n",
       "      <th>sex</th>\n",
       "      <th>jurisdiction_state</th>\n",
       "      <th>accident_state</th>\n",
       "      <th>classcode</th>\n",
       "      <th>class_desription</th>\n",
       "      <th>occupation</th>\n",
       "      <th>...</th>\n",
       "      <th>body_part_group</th>\n",
       "      <th>cause_of_injury</th>\n",
       "      <th>case_of_injury_group</th>\n",
       "      <th>nature_of_injury</th>\n",
       "      <th>nature_of_injury_group</th>\n",
       "      <th>total_incurred_amount</th>\n",
       "      <th>indemnity</th>\n",
       "      <th>medical</th>\n",
       "      <th>expenses</th>\n",
       "      <th>sum_(medical-indemnity-expenses)</th>\n",
       "    </tr>\n",
       "  </thead>\n",
       "  <tbody>\n",
       "    <tr>\n",
       "      <th>0</th>\n",
       "      <td>24209433</td>\n",
       "      <td>2015</td>\n",
       "      <td>832735</td>\n",
       "      <td>FRUIT &amp; VEG GROWER/SHIPPER/PACKER</td>\n",
       "      <td>NaN</td>\n",
       "      <td>CA</td>\n",
       "      <td>CA</td>\n",
       "      <td>40</td>\n",
       "      <td>NaN</td>\n",
       "      <td>FARM LABORER</td>\n",
       "      <td>...</td>\n",
       "      <td>NaN</td>\n",
       "      <td>NaN</td>\n",
       "      <td>NaN</td>\n",
       "      <td>NaN</td>\n",
       "      <td>NaN</td>\n",
       "      <td>0.00</td>\n",
       "      <td>174.92</td>\n",
       "      <td>101.84</td>\n",
       "      <td>28.09</td>\n",
       "      <td>304.85</td>\n",
       "    </tr>\n",
       "    <tr>\n",
       "      <th>1</th>\n",
       "      <td>24125802</td>\n",
       "      <td>2015</td>\n",
       "      <td>832735</td>\n",
       "      <td>FRUIT &amp; VEG GROWER/SHIPPER/PACKER</td>\n",
       "      <td>NaN</td>\n",
       "      <td>CA</td>\n",
       "      <td>CA</td>\n",
       "      <td>40</td>\n",
       "      <td>NaN</td>\n",
       "      <td>FARM LABORER</td>\n",
       "      <td>...</td>\n",
       "      <td>NaN</td>\n",
       "      <td>NaN</td>\n",
       "      <td>NaN</td>\n",
       "      <td>NaN</td>\n",
       "      <td>NaN</td>\n",
       "      <td>0.00</td>\n",
       "      <td>157.60</td>\n",
       "      <td>218.65</td>\n",
       "      <td>30.56</td>\n",
       "      <td>406.81</td>\n",
       "    </tr>\n",
       "    <tr>\n",
       "      <th>2</th>\n",
       "      <td>24274218</td>\n",
       "      <td>2015</td>\n",
       "      <td>832735</td>\n",
       "      <td>FRUIT &amp; VEG GROWER/SHIPPER/PACKER</td>\n",
       "      <td>NaN</td>\n",
       "      <td>CA</td>\n",
       "      <td>CA</td>\n",
       "      <td>40</td>\n",
       "      <td>NaN</td>\n",
       "      <td>FARM LABORER</td>\n",
       "      <td>...</td>\n",
       "      <td>NaN</td>\n",
       "      <td>NaN</td>\n",
       "      <td>NaN</td>\n",
       "      <td>NaN</td>\n",
       "      <td>NaN</td>\n",
       "      <td>0.00</td>\n",
       "      <td>296.83</td>\n",
       "      <td>242.48</td>\n",
       "      <td>30.56</td>\n",
       "      <td>569.87</td>\n",
       "    </tr>\n",
       "    <tr>\n",
       "      <th>3</th>\n",
       "      <td>2427360</td>\n",
       "      <td>2015</td>\n",
       "      <td>618523</td>\n",
       "      <td>OTHER</td>\n",
       "      <td>NaN</td>\n",
       "      <td>TX</td>\n",
       "      <td>TX</td>\n",
       "      <td>8810</td>\n",
       "      <td>CLERICAL OFFICE OR LIBRARIES</td>\n",
       "      <td>LABORER</td>\n",
       "      <td>...</td>\n",
       "      <td>NaN</td>\n",
       "      <td>NaN</td>\n",
       "      <td>NaN</td>\n",
       "      <td>NaN</td>\n",
       "      <td>NaN</td>\n",
       "      <td>NaN</td>\n",
       "      <td>NaN</td>\n",
       "      <td>NaN</td>\n",
       "      <td>NaN</td>\n",
       "      <td>NaN</td>\n",
       "    </tr>\n",
       "    <tr>\n",
       "      <th>4</th>\n",
       "      <td>843291</td>\n",
       "      <td>2009</td>\n",
       "      <td>748045</td>\n",
       "      <td>NURSERY/GREENHOUSE WHOLESALE</td>\n",
       "      <td>M</td>\n",
       "      <td>MN</td>\n",
       "      <td>MN</td>\n",
       "      <td>5</td>\n",
       "      <td>NURSERY EMPLOYEES</td>\n",
       "      <td>SHIPPING MGR</td>\n",
       "      <td>...</td>\n",
       "      <td>Neck</td>\n",
       "      <td>FROM DIFFERENT LEVEL (ELEVATIO</td>\n",
       "      <td>Fall, Slip, or Trip Injury</td>\n",
       "      <td>MULTIPLE PHYSICAL INJURIES ONL</td>\n",
       "      <td>Multiple Injuries</td>\n",
       "      <td>54579.79</td>\n",
       "      <td>12265.75</td>\n",
       "      <td>42314.04</td>\n",
       "      <td>0.00</td>\n",
       "      <td>54579.79</td>\n",
       "    </tr>\n",
       "  </tbody>\n",
       "</table>\n",
       "<p>5 rows × 34 columns</p>\n",
       "</div>"
      ],
      "text/plain": [
       "      claim  effective_year  account                             market  sex  \\\n",
       "0  24209433            2015   832735  FRUIT & VEG GROWER/SHIPPER/PACKER  NaN   \n",
       "1  24125802            2015   832735  FRUIT & VEG GROWER/SHIPPER/PACKER  NaN   \n",
       "2  24274218            2015   832735  FRUIT & VEG GROWER/SHIPPER/PACKER  NaN   \n",
       "3   2427360            2015   618523                              OTHER  NaN   \n",
       "4    843291            2009   748045       NURSERY/GREENHOUSE WHOLESALE    M   \n",
       "\n",
       "  jurisdiction_state accident_state classcode              class_desription  \\\n",
       "0                 CA             CA        40                           NaN   \n",
       "1                 CA             CA        40                           NaN   \n",
       "2                 CA             CA        40                           NaN   \n",
       "3                 TX             TX      8810  CLERICAL OFFICE OR LIBRARIES   \n",
       "4                 MN             MN         5             NURSERY EMPLOYEES   \n",
       "\n",
       "     occupation  ... body_part_group                 cause_of_injury  \\\n",
       "0  FARM LABORER  ...             NaN                             NaN   \n",
       "1  FARM LABORER  ...             NaN                             NaN   \n",
       "2  FARM LABORER  ...             NaN                             NaN   \n",
       "3       LABORER  ...             NaN                             NaN   \n",
       "4  SHIPPING MGR  ...            Neck  FROM DIFFERENT LEVEL (ELEVATIO   \n",
       "\n",
       "         case_of_injury_group                nature_of_injury  \\\n",
       "0                         NaN                             NaN   \n",
       "1                         NaN                             NaN   \n",
       "2                         NaN                             NaN   \n",
       "3                         NaN                             NaN   \n",
       "4  Fall, Slip, or Trip Injury  MULTIPLE PHYSICAL INJURIES ONL   \n",
       "\n",
       "   nature_of_injury_group total_incurred_amount indemnity   medical expenses  \\\n",
       "0                     NaN                  0.00    174.92    101.84    28.09   \n",
       "1                     NaN                  0.00    157.60    218.65    30.56   \n",
       "2                     NaN                  0.00    296.83    242.48    30.56   \n",
       "3                     NaN                   NaN       NaN       NaN      NaN   \n",
       "4       Multiple Injuries              54579.79  12265.75  42314.04     0.00   \n",
       "\n",
       "  sum_(medical-indemnity-expenses)  \n",
       "0                           304.85  \n",
       "1                           406.81  \n",
       "2                           569.87  \n",
       "3                              NaN  \n",
       "4                         54579.79  \n",
       "\n",
       "[5 rows x 34 columns]"
      ]
     },
     "execution_count": 346,
     "metadata": {},
     "output_type": "execute_result"
    }
   ],
   "source": [
    "df1.head()"
   ]
  },
  {
   "cell_type": "markdown",
   "metadata": {},
   "source": [
    "## Data Engineering"
   ]
  },
  {
   "cell_type": "code",
   "execution_count": 347,
   "metadata": {},
   "outputs": [],
   "source": [
    "df2 = df1"
   ]
  },
  {
   "cell_type": "code",
   "execution_count": 348,
   "metadata": {},
   "outputs": [
    {
     "data": {
      "text/plain": [
       "GRAIN ELEVATORS                                      7404\n",
       "RACE CAR OWNERS, RACING TEAMS                        4097\n",
       "REFINED FUEL (inc. Cstores)                          3198\n",
       "IMPLEMENT DEALER                                     2359\n",
       "AG SUPPLY/FARM STORES                                2191\n",
       "EGG LAYING AND PROCESSORS                            1990\n",
       "FEEDMILLS FOR LIVESTOCK AND PET FOODS                1836\n",
       "FOOD DISTRIBUTORS                                    1426\n",
       "FERTILIZER BLENDING & DISTRIBUTION                   1284\n",
       "OTHER                                                1131\n",
       "FRUIT & VEG GROWER/SHIPPER/PACKER                    1003\n",
       "NURSERY/GREENHOUSE WHOLESALE                          992\n",
       "MEAT PROCESSING (OTHER THAN POULTRY)                  851\n",
       "ETHANOL                                               776\n",
       "BOTTLERS/BEVERAGE DISTRIBUTORS                        618\n",
       "FRUIT & VEGETABLE PROCESSING                          612\n",
       "HOG CONFINEMENT                                       597\n",
       "CATTLE FEEDLOTS                                       593\n",
       "AG CHEMICAL DISTRIBUTION                              570\n",
       "GRAIN MILLING PLANTS (including flour)                497\n",
       "POULTRY HATCHERY/GROWER/PROCESSOR                     480\n",
       "SEED CONDITIONING (Cleaning/Conditioning/Bagging)     478\n",
       "LIVESTOCK AUCTION                                     471\n",
       "MUSHROOM FARMING                                      445\n",
       "DAIRY PROCESSING                                      421\n",
       "SNACK GOODS (Crackers, Potato Chips, etc)             414\n",
       "NURSERY/GREENHOUSE RETAIL                             396\n",
       "LPG                                                   310\n",
       "FROZEN SPECIALTY FOOD MANUFACTURING                   305\n",
       "NUTS & LEGUMES FOR HUMAN CONSUMPTION                  294\n",
       "MUSHROOM SERVICES                                     226\n",
       "BAKERIES, COMMERCIAL AND RETAIL                       216\n",
       "TRUCKING ONLY                                         209\n",
       "BIO-DIESEL                                            145\n",
       "FISH GROWING/PROCESSING                               130\n",
       "EQUIPMENT MANUFACTURING                               130\n",
       "COMMERCIAL FARM/FRUIT & VEG GROWER                    126\n",
       "MILK HAULING ONLY                                     114\n",
       "CANDY MANUFACTURERS & DISTRIBUTORS                    110\n",
       "OIL RECYCLING                                         102\n",
       "COTTON GIN/WAREHOUSE                                   79\n",
       "DAIRY FARMS                                            43\n",
       "OIL EXTRACTION - SOYBEAN/COTTONSEED                    42\n",
       "CUSTOM HARVESTING                                      33\n",
       "BROKERED SALES/COMMODITIES TRADING                     24\n",
       "PASTA MANUFACTURING                                     7\n",
       "TIRE DEALERS                                            4\n",
       "FARM LABOR CONTRACTORS                                  2\n",
       "CONSTRUCTION EQUIP DEALER                               1\n",
       "Name: market, dtype: int64"
      ]
     },
     "execution_count": 348,
     "metadata": {},
     "output_type": "execute_result"
    }
   ],
   "source": [
    "df2.market.value_counts()"
   ]
  },
  {
   "cell_type": "code",
   "execution_count": 349,
   "metadata": {},
   "outputs": [
    {
     "data": {
      "text/plain": [
       "count               39782\n",
       "unique                 49\n",
       "top       GRAIN ELEVATORS\n",
       "freq                 7404\n",
       "Name: market, dtype: object"
      ]
     },
     "execution_count": 349,
     "metadata": {},
     "output_type": "execute_result"
    }
   ],
   "source": [
    "df2.market.describe()"
   ]
  },
  {
   "cell_type": "code",
   "execution_count": 350,
   "metadata": {},
   "outputs": [],
   "source": [
    "df2 = df2[df2.market != 'RACE CAR OWNERS, RACING TEAMS']\n",
    "df2 = df2[df2.market != 'NURSERY/GREENHOUSE WHOLESALE']"
   ]
  },
  {
   "cell_type": "code",
   "execution_count": 351,
   "metadata": {},
   "outputs": [
    {
     "data": {
      "text/plain": [
       "count               34693\n",
       "unique                 47\n",
       "top       GRAIN ELEVATORS\n",
       "freq                 7404\n",
       "Name: market, dtype: object"
      ]
     },
     "execution_count": 351,
     "metadata": {},
     "output_type": "execute_result"
    }
   ],
   "source": [
    "df2.market.describe()"
   ]
  },
  {
   "cell_type": "code",
   "execution_count": 352,
   "metadata": {},
   "outputs": [],
   "source": [
    "df2.market = df2.market.str.replace('CONSTRUCTION EQUIP DEALER', 'OTHERS')\n",
    "df2.market = df2.market.str.replace('FARM LABOR CONTRACTORS', 'OTHERS')\n",
    "df2.market = df2.market.str.replace('TIRE DEALERS', 'OTHERS')\n",
    "df2.market = df2.market.str.replace('BROKERED SALES/COMMODITIES TRADING', 'OTHERS')\n",
    "df2.market = df2.market.str.replace('PASTA MANUFACTURING', 'OTHERS')\n",
    "df2.market = df2.market.str.replace('CUSTOM HARVESTING', 'OTHERS')\n",
    "df2.market = df2.market.str.replace('OIL EXTRACTION - SOYBEAN/COTTONSEED', 'OTHERS')\n",
    "df2.market = df2.market.str.replace('DAIRY FARMS', 'OTHERS')\n",
    "df2.market = df2.market.str.replace('COTTON GIN/WAREHOUSE', 'OTHERS')\n",
    "df2.market = df2.market.str.replace('OIL RECYCLING', 'OTHERS')\n",
    "df2.market = df2.market.str.replace('CANDY MANUFACTURERS & DISTRIBUTORS', 'OTHERS')\n",
    "df2.market = df2.market.str.replace('MILK HAULING ONLY', 'OTHERS')\n",
    "df2.market = df2.market.str.replace('COMMERCIAL FARM/FRUIT & VEG GROWER', 'OTHERS')\n",
    "df2.market = df2.market.str.replace('FISH GROWING/PROCESSING (inc. Frozen)', 'OTHERS')\n",
    "df2.market = df2.market.str.replace('EQUIPMENT MANUFACTURING', 'OTHERS')\n",
    "df2.market = df2.market.str.replace('BIO-DIESEL', 'OTHERS')\n",
    "\n",
    "df2.market = df2.market.str.replace('TRUCKING ONLY', 'OTHERS')\n",
    "df2.market = df2.market.str.replace('BAKERIES, COMMERCIAL AND RETAIL', 'OTHERS')\n",
    "df2.market = df2.market.str.replace('MUSHROOM SERVICES', 'OTHERS')\n",
    "df2.market = df2.market.str.replace('NUTS & LEGUMES FOR HUMAN CONSUMPTION', 'OTHERS')\n",
    "df2.market = df2.market.str.replace('FROZEN SPECIALTY FOOD MANUFACTURING', 'OTHERS')\n",
    "df2.market = df2.market.str.replace('LPG', 'OTHERS')\n",
    "df2.market = df2.market.str.replace('NURSERY/GREENHOUSE RETAIL', 'OTHERS')\n",
    "df2.market = df2.market.str.replace('FISH GROWING/PROCESSING (inc. Frozen)', 'OTHERS')"
   ]
  },
  {
   "cell_type": "code",
   "execution_count": 353,
   "metadata": {},
   "outputs": [
    {
     "data": {
      "text/plain": [
       "GRAIN ELEVATORS                                      7404\n",
       "REFINED FUEL (inc. Cstores)                          3198\n",
       "OTHERS                                               2918\n",
       "IMPLEMENT DEALER                                     2359\n",
       "AG SUPPLY/FARM STORES                                2191\n",
       "EGG LAYING AND PROCESSORS                            1990\n",
       "FEEDMILLS FOR LIVESTOCK AND PET FOODS                1836\n",
       "FOOD DISTRIBUTORS                                    1426\n",
       "FERTILIZER BLENDING & DISTRIBUTION                   1284\n",
       "OTHER                                                1131\n",
       "FRUIT & VEG GROWER/SHIPPER/PACKER                    1003\n",
       "MEAT PROCESSING (OTHER THAN POULTRY)                  851\n",
       "ETHANOL                                               776\n",
       "BOTTLERS/BEVERAGE DISTRIBUTORS                        618\n",
       "FRUIT & VEGETABLE PROCESSING                          612\n",
       "HOG CONFINEMENT                                       597\n",
       "CATTLE FEEDLOTS                                       593\n",
       "AG CHEMICAL DISTRIBUTION                              570\n",
       "GRAIN MILLING PLANTS (including flour)                497\n",
       "POULTRY HATCHERY/GROWER/PROCESSOR                     480\n",
       "SEED CONDITIONING (Cleaning/Conditioning/Bagging)     478\n",
       "LIVESTOCK AUCTION                                     471\n",
       "MUSHROOM FARMING                                      445\n",
       "DAIRY PROCESSING                                      421\n",
       "SNACK GOODS (Crackers, Potato Chips, etc)             414\n",
       "FISH GROWING/PROCESSING                               130\n",
       "Name: market, dtype: int64"
      ]
     },
     "execution_count": 353,
     "metadata": {},
     "output_type": "execute_result"
    }
   ],
   "source": [
    "df2.market.value_counts()"
   ]
  },
  {
   "cell_type": "code",
   "execution_count": 354,
   "metadata": {},
   "outputs": [
    {
     "data": {
      "text/plain": [
       "count               34693\n",
       "unique                 26\n",
       "top       GRAIN ELEVATORS\n",
       "freq                 7404\n",
       "Name: market, dtype: object"
      ]
     },
     "execution_count": 354,
     "metadata": {},
     "output_type": "execute_result"
    }
   ],
   "source": [
    "df2.market.describe()"
   ]
  },
  {
   "cell_type": "code",
   "execution_count": 355,
   "metadata": {},
   "outputs": [
    {
     "name": "stdout",
     "output_type": "stream",
     "text": [
      "<class 'pandas.core.frame.DataFrame'>\n",
      "Int64Index: 34693 entries, 0 to 39781\n",
      "Data columns (total 34 columns):\n",
      "claim                               34693 non-null int64\n",
      "effective_year                      34693 non-null int64\n",
      "account                             34693 non-null int64\n",
      "market                              34693 non-null object\n",
      "sex                                 34689 non-null object\n",
      "jurisdiction_state                  34692 non-null object\n",
      "accident_state                      34693 non-null object\n",
      "classcode                           34693 non-null object\n",
      "class_desription                    34564 non-null object\n",
      "occupation                          34693 non-null object\n",
      "date_of_birth                       34692 non-null datetime64[ns]\n",
      "date_of_hire                        34693 non-null datetime64[ns]\n",
      "accident_date                       34693 non-null datetime64[ns]\n",
      "experience_years                    34693 non-null float64\n",
      "age_at_accident_date                34693 non-null float64\n",
      "date_reported_to_employer           34693 non-null datetime64[ns]\n",
      "report_date                         34693 non-null datetime64[ns]\n",
      "date_of_disability                  34693 non-null datetime64[ns]\n",
      "date_returened_to_work              34693 non-null datetime64[ns]\n",
      "claim_description                   34692 non-null object\n",
      "claim_status                        34693 non-null object\n",
      "type_of_injury_code                 34693 non-null int64\n",
      "type_of_injury                      34693 non-null object\n",
      "body_part                           34689 non-null object\n",
      "body_part_group                     34689 non-null object\n",
      "cause_of_injury                     34689 non-null object\n",
      "case_of_injury_group                34689 non-null object\n",
      "nature_of_injury                    34689 non-null object\n",
      "nature_of_injury_group              34689 non-null object\n",
      "total_incurred_amount               29812 non-null float64\n",
      "indemnity                           29812 non-null float64\n",
      "medical                             29812 non-null float64\n",
      "expenses                            29812 non-null float64\n",
      "sum_(medical-indemnity-expenses)    29812 non-null float64\n",
      "dtypes: datetime64[ns](7), float64(7), int64(4), object(16)\n",
      "memory usage: 9.3+ MB\n"
     ]
    }
   ],
   "source": [
    "df2.info()"
   ]
  },
  {
   "cell_type": "markdown",
   "metadata": {},
   "source": [
    "## Feature Selection"
   ]
  },
  {
   "cell_type": "code",
   "execution_count": 356,
   "metadata": {},
   "outputs": [
    {
     "data": {
      "text/plain": [
       "(34689, 34)"
      ]
     },
     "execution_count": 356,
     "metadata": {},
     "output_type": "execute_result"
    }
   ],
   "source": [
    "# Removal of top of four rows\n",
    "df3 = df2[4:]\n",
    "df3.shape"
   ]
  },
  {
   "cell_type": "code",
   "execution_count": 357,
   "metadata": {},
   "outputs": [
    {
     "name": "stdout",
     "output_type": "stream",
     "text": [
      "Removing features...\n",
      "Index(['claim', 'effective_year', 'account', 'jurisdiction_state',\n",
      "       'class_desription', 'date_of_birth', 'date_of_hire', 'accident_date',\n",
      "       'date_reported_to_employer', 'report_date', 'date_of_disability',\n",
      "       'date_returened_to_work', 'claim_description', 'claim_status',\n",
      "       'type_of_injury_code', 'body_part', 'cause_of_injury',\n",
      "       'nature_of_injury_group', 'total_incurred_amount', 'indemnity',\n",
      "       'medical', 'expenses', 'sum_(medical-indemnity-expenses)'],\n",
      "      dtype='object')\n"
     ]
    }
   ],
   "source": [
    "# Features to be removed from the data\n",
    "print('Removing features...')\n",
    "print(df3.columns[[0, 1, 2, 5, 8, 10, 11, 12, 15, 16, 17, 18, 19, 20, 21, 23, 25, 28, 29, 30, 31, 32, 33]])\n",
    "df3.drop(df3.columns[[0, 1, 2, 5, 8, 10, 11, 12, 15, 16, 17, 18, 19, 20, 21, 23, 25, 28, 29, 30, 31, 32, 33]], axis=1, inplace=True)"
   ]
  },
  {
   "cell_type": "code",
   "execution_count": 358,
   "metadata": {},
   "outputs": [
    {
     "name": "stdout",
     "output_type": "stream",
     "text": [
      "<class 'pandas.core.frame.DataFrame'>\n",
      "Int64Index: 34689 entries, 6 to 39781\n",
      "Data columns (total 11 columns):\n",
      "market                  34689 non-null object\n",
      "sex                     34689 non-null object\n",
      "accident_state          34689 non-null object\n",
      "classcode               34689 non-null object\n",
      "occupation              34689 non-null object\n",
      "experience_years        34689 non-null float64\n",
      "age_at_accident_date    34689 non-null float64\n",
      "type_of_injury          34689 non-null object\n",
      "body_part_group         34689 non-null object\n",
      "case_of_injury_group    34689 non-null object\n",
      "nature_of_injury        34689 non-null object\n",
      "dtypes: float64(2), object(9)\n",
      "memory usage: 3.2+ MB\n"
     ]
    }
   ],
   "source": [
    "df3.info()"
   ]
  },
  {
   "cell_type": "code",
   "execution_count": 359,
   "metadata": {},
   "outputs": [
    {
     "name": "stdout",
     "output_type": "stream",
     "text": [
      "market 26\n",
      "sex 3\n",
      "accident_state 50\n",
      "classcode 211\n",
      "occupation 6939\n",
      "experience_years 3328\n",
      "age_at_accident_date 5544\n",
      "type_of_injury 7\n",
      "body_part_group 7\n",
      "case_of_injury_group 11\n",
      "nature_of_injury 49\n"
     ]
    }
   ],
   "source": [
    "# Number of unique rows in all the columns\n",
    "for col in df3.columns:\n",
    "    print(col, df3[col].nunique())"
   ]
  },
  {
   "cell_type": "code",
   "execution_count": 360,
   "metadata": {},
   "outputs": [
    {
     "data": {
      "text/plain": [
       "Strain or Injury by                9444\n",
       "Fall, Slip, or Trip Injury         7823\n",
       "Struck or Injured by               4813\n",
       "Cut, Puncture, Scrape              3631\n",
       "Miscellaneous                      3391\n",
       "Caught In, Under, or Between       1342\n",
       "Heat or Cold Exposures             1286\n",
       "Vehicle                            1164\n",
       "Striking Against or Stepping On    1099\n",
       "Lifting or Handling                 648\n",
       "Rubbed or Abraded by                 48\n",
       "Name: case_of_injury_group, dtype: int64"
      ]
     },
     "execution_count": 360,
     "metadata": {},
     "output_type": "execute_result"
    }
   ],
   "source": [
    "df3.case_of_injury_group.value_counts()"
   ]
  },
  {
   "cell_type": "code",
   "execution_count": 361,
   "metadata": {},
   "outputs": [],
   "source": [
    "searchfor = ['Rubbed or Abraded by', 'Lifting or Handling','Striking Against or Stepping On', 'Vehicle','Caught In, Under, or Between']\n",
    "df3 = df3[~df3.case_of_injury_group.str.contains('|'.join(searchfor))]"
   ]
  },
  {
   "cell_type": "code",
   "execution_count": 362,
   "metadata": {},
   "outputs": [
    {
     "data": {
      "text/plain": [
       "Strain or Injury by           9444\n",
       "Fall, Slip, or Trip Injury    7823\n",
       "Struck or Injured by          4813\n",
       "Cut, Puncture, Scrape         3631\n",
       "Miscellaneous                 3391\n",
       "Heat or Cold Exposures        1286\n",
       "Name: case_of_injury_group, dtype: int64"
      ]
     },
     "execution_count": 362,
     "metadata": {},
     "output_type": "execute_result"
    }
   ],
   "source": [
    "df3['case_of_injury_group'].value_counts()"
   ]
  },
  {
   "cell_type": "code",
   "execution_count": 363,
   "metadata": {},
   "outputs": [
    {
     "data": {
      "text/plain": [
       "38943           Strain or Injury by\n",
       "38944    Fall, Slip, or Trip Injury\n",
       "38945           Strain or Injury by\n",
       "38946    Fall, Slip, or Trip Injury\n",
       "38947          Struck or Injured by\n",
       "38948    Fall, Slip, or Trip Injury\n",
       "38949           Strain or Injury by\n",
       "38950                 Miscellaneous\n",
       "38951         Cut, Puncture, Scrape\n",
       "39053          Struck or Injured by\n",
       "39054                 Miscellaneous\n",
       "39055           Strain or Injury by\n",
       "39056           Strain or Injury by\n",
       "39057         Cut, Puncture, Scrape\n",
       "39099           Strain or Injury by\n",
       "39129    Fall, Slip, or Trip Injury\n",
       "39219           Strain or Injury by\n",
       "39246                 Miscellaneous\n",
       "39780          Struck or Injured by\n",
       "39781    Fall, Slip, or Trip Injury\n",
       "Name: case_of_injury_group, dtype: object"
      ]
     },
     "execution_count": 363,
     "metadata": {},
     "output_type": "execute_result"
    }
   ],
   "source": [
    "df3.case_of_injury_group.tail(20)"
   ]
  },
  {
   "cell_type": "code",
   "execution_count": 364,
   "metadata": {},
   "outputs": [
    {
     "data": {
      "text/plain": [
       "['Cut, Puncture, Scrape',\n",
       " 'Fall, Slip, or Trip Injury',\n",
       " 'Heat or Cold Exposures',\n",
       " 'Miscellaneous',\n",
       " 'Strain or Injury by',\n",
       " 'Struck or Injured by']"
      ]
     },
     "execution_count": 364,
     "metadata": {},
     "output_type": "execute_result"
    }
   ],
   "source": [
    "text_label = ['Cut, Puncture, Scrape', 'Fall, Slip, or Trip Injury', \n",
    "                    'Heat or Cold Exposures', 'Miscellaneous', 'Strain or Injury by', 'Struck or Injured by'\n",
    "        ]\n",
    "text_label"
   ]
  },
  {
   "cell_type": "code",
   "execution_count": 365,
   "metadata": {},
   "outputs": [
    {
     "data": {
      "text/plain": [
       "Strain or Injury by           9444\n",
       "Fall, Slip, or Trip Injury    7823\n",
       "Struck or Injured by          4813\n",
       "Cut, Puncture, Scrape         3631\n",
       "Miscellaneous                 3391\n",
       "Heat or Cold Exposures        1286\n",
       "Name: case_of_injury_group, dtype: int64"
      ]
     },
     "execution_count": 365,
     "metadata": {},
     "output_type": "execute_result"
    }
   ],
   "source": [
    "check = df3['case_of_injury_group'].value_counts()\n",
    "check"
   ]
  },
  {
   "cell_type": "markdown",
   "metadata": {},
   "source": [
    "## Standardization and Normalization"
   ]
  },
  {
   "cell_type": "code",
   "execution_count": 366,
   "metadata": {},
   "outputs": [],
   "source": [
    "# Standardization of features\n",
    "df3[\"experience_years\"] = (df3[\"experience_years\"]-df3[\"experience_years\"].min()) / (df3[\"experience_years\"].max()-df3[\"experience_years\"].min())\n",
    "df3[\"age_at_accident_date\"] = (df3[\"age_at_accident_date\"]-df3[\"age_at_accident_date\"].min()) / (df3[\"age_at_accident_date\"].max()-df3[\"age_at_accident_date\"].min())"
   ]
  },
  {
   "cell_type": "code",
   "execution_count": 369,
   "metadata": {},
   "outputs": [],
   "source": [
    "from sklearn.preprocessing import LabelEncoder\n",
    "\n",
    "LE = LabelEncoder()\n",
    "\n",
    "df3['market'] = LE.fit_transform(df3['market'])\n",
    "df3['type_of_injury'] = LE.fit_transform(df3['type_of_injury'])\n",
    "df3['case_of_injury_group'] = LE.fit_transform(df3['case_of_injury_group'])\n",
    "df3['nature_of_injury'] = LE.fit_transform(df3['nature_of_injury'])\n",
    "df3['body_part_group'] = LE.fit_transform(df3['body_part_group'])\n",
    "df3['occupation'] = LE.fit_transform(df3['occupation'].astype(str))\n",
    "df3['accident_state'] = LE.fit_transform(df3['accident_state'])\n",
    "df3['sex'] = LE.fit_transform(df3['sex'])\n",
    "df3['classcode'] = LE.fit_transform(df3['classcode'].astype(str))"
   ]
  },
  {
   "cell_type": "code",
   "execution_count": 370,
   "metadata": {},
   "outputs": [],
   "source": [
    "# Standardization\n",
    "\n",
    "df3[\"nature_of_injury\"] = (df3[\"nature_of_injury\"]-df3[\"nature_of_injury\"].min()) / (df3[\"nature_of_injury\"].max()-df3[\"nature_of_injury\"].min())\n",
    "df3[\"accident_state\"] = (df3[\"accident_state\"]-df3[\"accident_state\"].min()) / (df3[\"accident_state\"].max()-df3[\"accident_state\"].min())\n",
    "df3[\"type_of_injury\"] = (df3[\"type_of_injury\"]-df3[\"type_of_injury\"].min()) / (df3[\"type_of_injury\"].max()-df3[\"type_of_injury\"].min())\n",
    "df3[\"occupation\"] = (df3[\"occupation\"]-df3[\"occupation\"].min()) / (df3[\"occupation\"].max()-df3[\"occupation\"].min())\n",
    "df3[\"classcode\"] = (df3[\"classcode\"]-df3[\"classcode\"].min()) / (df3[\"classcode\"].max()-df3[\"classcode\"].min())\n",
    "df3[\"body_part_group\"] = (df3[\"body_part_group\"]-df3[\"body_part_group\"].min()) / (df3[\"body_part_group\"].max()-df3[\"body_part_group\"].min())\n",
    "df3[\"market\"] = (df3[\"market\"]-df3[\"market\"].min()) / (df3[\"market\"].max()-df3[\"market\"].min())\n",
    "df3[\"sex\"] = (df3[\"sex\"]-df3[\"sex\"].min()) / (df3[\"sex\"].max()-df3[\"sex\"].min())"
   ]
  },
  {
   "cell_type": "code",
   "execution_count": 371,
   "metadata": {},
   "outputs": [
    {
     "data": {
      "text/html": [
       "<div>\n",
       "<style scoped>\n",
       "    .dataframe tbody tr th:only-of-type {\n",
       "        vertical-align: middle;\n",
       "    }\n",
       "\n",
       "    .dataframe tbody tr th {\n",
       "        vertical-align: top;\n",
       "    }\n",
       "\n",
       "    .dataframe thead th {\n",
       "        text-align: right;\n",
       "    }\n",
       "</style>\n",
       "<table border=\"1\" class=\"dataframe\">\n",
       "  <thead>\n",
       "    <tr style=\"text-align: right;\">\n",
       "      <th></th>\n",
       "      <th>market</th>\n",
       "      <th>sex</th>\n",
       "      <th>accident_state</th>\n",
       "      <th>classcode</th>\n",
       "      <th>occupation</th>\n",
       "      <th>experience_years</th>\n",
       "      <th>age_at_accident_date</th>\n",
       "      <th>type_of_injury</th>\n",
       "      <th>body_part_group</th>\n",
       "      <th>case_of_injury_group</th>\n",
       "      <th>nature_of_injury</th>\n",
       "    </tr>\n",
       "  </thead>\n",
       "  <tbody>\n",
       "    <tr>\n",
       "      <th>6</th>\n",
       "      <td>0.52</td>\n",
       "      <td>0.5</td>\n",
       "      <td>0.040816</td>\n",
       "      <td>0.166667</td>\n",
       "      <td>0.338284</td>\n",
       "      <td>0.115312</td>\n",
       "      <td>0.506133</td>\n",
       "      <td>0.000000</td>\n",
       "      <td>0.500000</td>\n",
       "      <td>5</td>\n",
       "      <td>0.680851</td>\n",
       "    </tr>\n",
       "    <tr>\n",
       "      <th>7</th>\n",
       "      <td>0.44</td>\n",
       "      <td>0.5</td>\n",
       "      <td>0.040816</td>\n",
       "      <td>0.166667</td>\n",
       "      <td>0.401959</td>\n",
       "      <td>0.086700</td>\n",
       "      <td>0.567563</td>\n",
       "      <td>0.333333</td>\n",
       "      <td>0.166667</td>\n",
       "      <td>5</td>\n",
       "      <td>0.680851</td>\n",
       "    </tr>\n",
       "    <tr>\n",
       "      <th>8</th>\n",
       "      <td>0.44</td>\n",
       "      <td>0.0</td>\n",
       "      <td>0.040816</td>\n",
       "      <td>0.166667</td>\n",
       "      <td>0.531838</td>\n",
       "      <td>0.086386</td>\n",
       "      <td>0.626362</td>\n",
       "      <td>1.000000</td>\n",
       "      <td>0.500000</td>\n",
       "      <td>1</td>\n",
       "      <td>0.680851</td>\n",
       "    </tr>\n",
       "    <tr>\n",
       "      <th>9</th>\n",
       "      <td>0.44</td>\n",
       "      <td>0.5</td>\n",
       "      <td>0.979592</td>\n",
       "      <td>0.166667</td>\n",
       "      <td>0.073313</td>\n",
       "      <td>0.176466</td>\n",
       "      <td>0.682529</td>\n",
       "      <td>0.333333</td>\n",
       "      <td>0.500000</td>\n",
       "      <td>1</td>\n",
       "      <td>0.680851</td>\n",
       "    </tr>\n",
       "    <tr>\n",
       "      <th>11</th>\n",
       "      <td>0.20</td>\n",
       "      <td>0.0</td>\n",
       "      <td>0.428571</td>\n",
       "      <td>0.728571</td>\n",
       "      <td>0.352030</td>\n",
       "      <td>0.088036</td>\n",
       "      <td>0.643681</td>\n",
       "      <td>0.333333</td>\n",
       "      <td>1.000000</td>\n",
       "      <td>1</td>\n",
       "      <td>0.680851</td>\n",
       "    </tr>\n",
       "  </tbody>\n",
       "</table>\n",
       "</div>"
      ],
      "text/plain": [
       "    market  sex  accident_state  classcode  occupation  experience_years  \\\n",
       "6     0.52  0.5        0.040816   0.166667    0.338284          0.115312   \n",
       "7     0.44  0.5        0.040816   0.166667    0.401959          0.086700   \n",
       "8     0.44  0.0        0.040816   0.166667    0.531838          0.086386   \n",
       "9     0.44  0.5        0.979592   0.166667    0.073313          0.176466   \n",
       "11    0.20  0.0        0.428571   0.728571    0.352030          0.088036   \n",
       "\n",
       "    age_at_accident_date  type_of_injury  body_part_group  \\\n",
       "6               0.506133        0.000000         0.500000   \n",
       "7               0.567563        0.333333         0.166667   \n",
       "8               0.626362        1.000000         0.500000   \n",
       "9               0.682529        0.333333         0.500000   \n",
       "11              0.643681        0.333333         1.000000   \n",
       "\n",
       "    case_of_injury_group  nature_of_injury  \n",
       "6                      5          0.680851  \n",
       "7                      5          0.680851  \n",
       "8                      1          0.680851  \n",
       "9                      1          0.680851  \n",
       "11                     1          0.680851  "
      ]
     },
     "execution_count": 371,
     "metadata": {},
     "output_type": "execute_result"
    }
   ],
   "source": [
    "df3.head()"
   ]
  },
  {
   "cell_type": "code",
   "execution_count": 372,
   "metadata": {},
   "outputs": [
    {
     "data": {
      "text/plain": [
       "38943    4\n",
       "38944    1\n",
       "38945    4\n",
       "38946    1\n",
       "38947    5\n",
       "38948    1\n",
       "38949    4\n",
       "38950    3\n",
       "38951    0\n",
       "39053    5\n",
       "39054    3\n",
       "39055    4\n",
       "39056    4\n",
       "39057    0\n",
       "39099    4\n",
       "39129    1\n",
       "39219    4\n",
       "39246    3\n",
       "39780    5\n",
       "39781    1\n",
       "Name: case_of_injury_group, dtype: int64"
      ]
     },
     "execution_count": 372,
     "metadata": {},
     "output_type": "execute_result"
    }
   ],
   "source": [
    "df3.case_of_injury_group.tail(20)"
   ]
  },
  {
   "cell_type": "code",
   "execution_count": 373,
   "metadata": {},
   "outputs": [
    {
     "data": {
      "text/html": [
       "<div>\n",
       "<style scoped>\n",
       "    .dataframe tbody tr th:only-of-type {\n",
       "        vertical-align: middle;\n",
       "    }\n",
       "\n",
       "    .dataframe tbody tr th {\n",
       "        vertical-align: top;\n",
       "    }\n",
       "\n",
       "    .dataframe thead th {\n",
       "        text-align: right;\n",
       "    }\n",
       "</style>\n",
       "<table border=\"1\" class=\"dataframe\">\n",
       "  <thead>\n",
       "    <tr style=\"text-align: right;\">\n",
       "      <th></th>\n",
       "      <th>market</th>\n",
       "      <th>sex</th>\n",
       "      <th>accident_state</th>\n",
       "      <th>classcode</th>\n",
       "      <th>occupation</th>\n",
       "      <th>experience_years</th>\n",
       "      <th>age_at_accident_date</th>\n",
       "      <th>type_of_injury</th>\n",
       "      <th>body_part_group</th>\n",
       "      <th>case_of_injury_group</th>\n",
       "      <th>nature_of_injury</th>\n",
       "    </tr>\n",
       "  </thead>\n",
       "  <tbody>\n",
       "    <tr>\n",
       "      <th>market</th>\n",
       "      <td>1.000000</td>\n",
       "      <td>-0.040357</td>\n",
       "      <td>0.142586</td>\n",
       "      <td>-0.087721</td>\n",
       "      <td>0.028806</td>\n",
       "      <td>0.018922</td>\n",
       "      <td>0.015014</td>\n",
       "      <td>0.017401</td>\n",
       "      <td>0.018604</td>\n",
       "      <td>-0.032656</td>\n",
       "      <td>0.003976</td>\n",
       "    </tr>\n",
       "    <tr>\n",
       "      <th>sex</th>\n",
       "      <td>-0.040357</td>\n",
       "      <td>1.000000</td>\n",
       "      <td>0.025290</td>\n",
       "      <td>0.089564</td>\n",
       "      <td>-0.072460</td>\n",
       "      <td>0.070150</td>\n",
       "      <td>0.018162</td>\n",
       "      <td>0.028409</td>\n",
       "      <td>-0.016687</td>\n",
       "      <td>0.011119</td>\n",
       "      <td>0.024217</td>\n",
       "    </tr>\n",
       "    <tr>\n",
       "      <th>accident_state</th>\n",
       "      <td>0.142586</td>\n",
       "      <td>0.025290</td>\n",
       "      <td>1.000000</td>\n",
       "      <td>-0.069560</td>\n",
       "      <td>0.022850</td>\n",
       "      <td>0.001381</td>\n",
       "      <td>-0.012261</td>\n",
       "      <td>0.017286</td>\n",
       "      <td>0.015983</td>\n",
       "      <td>-0.006094</td>\n",
       "      <td>0.012610</td>\n",
       "    </tr>\n",
       "    <tr>\n",
       "      <th>classcode</th>\n",
       "      <td>-0.087721</td>\n",
       "      <td>0.089564</td>\n",
       "      <td>-0.069560</td>\n",
       "      <td>1.000000</td>\n",
       "      <td>-0.055502</td>\n",
       "      <td>0.019630</td>\n",
       "      <td>-0.016828</td>\n",
       "      <td>-0.031700</td>\n",
       "      <td>-0.017198</td>\n",
       "      <td>-0.007746</td>\n",
       "      <td>-0.035196</td>\n",
       "    </tr>\n",
       "    <tr>\n",
       "      <th>occupation</th>\n",
       "      <td>0.028806</td>\n",
       "      <td>-0.072460</td>\n",
       "      <td>0.022850</td>\n",
       "      <td>-0.055502</td>\n",
       "      <td>1.000000</td>\n",
       "      <td>0.011798</td>\n",
       "      <td>-0.007282</td>\n",
       "      <td>-0.036258</td>\n",
       "      <td>0.000672</td>\n",
       "      <td>0.026110</td>\n",
       "      <td>-0.009919</td>\n",
       "    </tr>\n",
       "    <tr>\n",
       "      <th>experience_years</th>\n",
       "      <td>0.018922</td>\n",
       "      <td>0.070150</td>\n",
       "      <td>0.001381</td>\n",
       "      <td>0.019630</td>\n",
       "      <td>0.011798</td>\n",
       "      <td>1.000000</td>\n",
       "      <td>0.385060</td>\n",
       "      <td>0.014707</td>\n",
       "      <td>0.011802</td>\n",
       "      <td>-0.003194</td>\n",
       "      <td>0.020341</td>\n",
       "    </tr>\n",
       "    <tr>\n",
       "      <th>age_at_accident_date</th>\n",
       "      <td>0.015014</td>\n",
       "      <td>0.018162</td>\n",
       "      <td>-0.012261</td>\n",
       "      <td>-0.016828</td>\n",
       "      <td>-0.007282</td>\n",
       "      <td>0.385060</td>\n",
       "      <td>1.000000</td>\n",
       "      <td>0.111530</td>\n",
       "      <td>0.011613</td>\n",
       "      <td>-0.017428</td>\n",
       "      <td>0.034341</td>\n",
       "    </tr>\n",
       "    <tr>\n",
       "      <th>type_of_injury</th>\n",
       "      <td>0.017401</td>\n",
       "      <td>0.028409</td>\n",
       "      <td>0.017286</td>\n",
       "      <td>-0.031700</td>\n",
       "      <td>-0.036258</td>\n",
       "      <td>0.014707</td>\n",
       "      <td>0.111530</td>\n",
       "      <td>1.000000</td>\n",
       "      <td>0.040642</td>\n",
       "      <td>0.020126</td>\n",
       "      <td>0.070322</td>\n",
       "    </tr>\n",
       "    <tr>\n",
       "      <th>body_part_group</th>\n",
       "      <td>0.018604</td>\n",
       "      <td>-0.016687</td>\n",
       "      <td>0.015983</td>\n",
       "      <td>-0.017198</td>\n",
       "      <td>0.000672</td>\n",
       "      <td>0.011802</td>\n",
       "      <td>0.011613</td>\n",
       "      <td>0.040642</td>\n",
       "      <td>1.000000</td>\n",
       "      <td>-0.048348</td>\n",
       "      <td>0.238545</td>\n",
       "    </tr>\n",
       "    <tr>\n",
       "      <th>case_of_injury_group</th>\n",
       "      <td>-0.032656</td>\n",
       "      <td>0.011119</td>\n",
       "      <td>-0.006094</td>\n",
       "      <td>-0.007746</td>\n",
       "      <td>0.026110</td>\n",
       "      <td>-0.003194</td>\n",
       "      <td>-0.017428</td>\n",
       "      <td>0.020126</td>\n",
       "      <td>-0.048348</td>\n",
       "      <td>1.000000</td>\n",
       "      <td>0.092210</td>\n",
       "    </tr>\n",
       "    <tr>\n",
       "      <th>nature_of_injury</th>\n",
       "      <td>0.003976</td>\n",
       "      <td>0.024217</td>\n",
       "      <td>0.012610</td>\n",
       "      <td>-0.035196</td>\n",
       "      <td>-0.009919</td>\n",
       "      <td>0.020341</td>\n",
       "      <td>0.034341</td>\n",
       "      <td>0.070322</td>\n",
       "      <td>0.238545</td>\n",
       "      <td>0.092210</td>\n",
       "      <td>1.000000</td>\n",
       "    </tr>\n",
       "  </tbody>\n",
       "</table>\n",
       "</div>"
      ],
      "text/plain": [
       "                        market       sex  accident_state  classcode  \\\n",
       "market                1.000000 -0.040357        0.142586  -0.087721   \n",
       "sex                  -0.040357  1.000000        0.025290   0.089564   \n",
       "accident_state        0.142586  0.025290        1.000000  -0.069560   \n",
       "classcode            -0.087721  0.089564       -0.069560   1.000000   \n",
       "occupation            0.028806 -0.072460        0.022850  -0.055502   \n",
       "experience_years      0.018922  0.070150        0.001381   0.019630   \n",
       "age_at_accident_date  0.015014  0.018162       -0.012261  -0.016828   \n",
       "type_of_injury        0.017401  0.028409        0.017286  -0.031700   \n",
       "body_part_group       0.018604 -0.016687        0.015983  -0.017198   \n",
       "case_of_injury_group -0.032656  0.011119       -0.006094  -0.007746   \n",
       "nature_of_injury      0.003976  0.024217        0.012610  -0.035196   \n",
       "\n",
       "                      occupation  experience_years  age_at_accident_date  \\\n",
       "market                  0.028806          0.018922              0.015014   \n",
       "sex                    -0.072460          0.070150              0.018162   \n",
       "accident_state          0.022850          0.001381             -0.012261   \n",
       "classcode              -0.055502          0.019630             -0.016828   \n",
       "occupation              1.000000          0.011798             -0.007282   \n",
       "experience_years        0.011798          1.000000              0.385060   \n",
       "age_at_accident_date   -0.007282          0.385060              1.000000   \n",
       "type_of_injury         -0.036258          0.014707              0.111530   \n",
       "body_part_group         0.000672          0.011802              0.011613   \n",
       "case_of_injury_group    0.026110         -0.003194             -0.017428   \n",
       "nature_of_injury       -0.009919          0.020341              0.034341   \n",
       "\n",
       "                      type_of_injury  body_part_group  case_of_injury_group  \\\n",
       "market                      0.017401         0.018604             -0.032656   \n",
       "sex                         0.028409        -0.016687              0.011119   \n",
       "accident_state              0.017286         0.015983             -0.006094   \n",
       "classcode                  -0.031700        -0.017198             -0.007746   \n",
       "occupation                 -0.036258         0.000672              0.026110   \n",
       "experience_years            0.014707         0.011802             -0.003194   \n",
       "age_at_accident_date        0.111530         0.011613             -0.017428   \n",
       "type_of_injury              1.000000         0.040642              0.020126   \n",
       "body_part_group             0.040642         1.000000             -0.048348   \n",
       "case_of_injury_group        0.020126        -0.048348              1.000000   \n",
       "nature_of_injury            0.070322         0.238545              0.092210   \n",
       "\n",
       "                      nature_of_injury  \n",
       "market                        0.003976  \n",
       "sex                           0.024217  \n",
       "accident_state                0.012610  \n",
       "classcode                    -0.035196  \n",
       "occupation                   -0.009919  \n",
       "experience_years              0.020341  \n",
       "age_at_accident_date          0.034341  \n",
       "type_of_injury                0.070322  \n",
       "body_part_group               0.238545  \n",
       "case_of_injury_group          0.092210  \n",
       "nature_of_injury              1.000000  "
      ]
     },
     "execution_count": 373,
     "metadata": {},
     "output_type": "execute_result"
    }
   ],
   "source": [
    "# Feature Correlation\n",
    "df3.corr(method ='pearson')"
   ]
  },
  {
   "cell_type": "markdown",
   "metadata": {},
   "source": [
    "## Data Separation"
   ]
  },
  {
   "cell_type": "code",
   "execution_count": 374,
   "metadata": {},
   "outputs": [],
   "source": [
    "features = df3.drop('case_of_injury_group', 1)\n",
    "labels = df3[['case_of_injury_group']]"
   ]
  },
  {
   "cell_type": "code",
   "execution_count": 375,
   "metadata": {},
   "outputs": [
    {
     "data": {
      "text/plain": [
       "(30388, 10)"
      ]
     },
     "execution_count": 375,
     "metadata": {},
     "output_type": "execute_result"
    }
   ],
   "source": [
    "features.shape"
   ]
  },
  {
   "cell_type": "code",
   "execution_count": 376,
   "metadata": {},
   "outputs": [
    {
     "name": "stdout",
     "output_type": "stream",
     "text": [
      "Number of train and test data:\n",
      "24310 6078\n"
     ]
    }
   ],
   "source": [
    "# Splitting data into train and test\n",
    "from sklearn.model_selection import train_test_split\n",
    "X_train, X_test, Y_train, Y_test = train_test_split(features, labels, test_size=0.2, random_state=42)\n",
    "number_of_train = X_train.shape[0]\n",
    "number_of_test = X_test.shape[0]\n",
    "print('Number of train and test data:')\n",
    "print(number_of_train, number_of_test)"
   ]
  },
  {
   "cell_type": "code",
   "execution_count": 377,
   "metadata": {},
   "outputs": [
    {
     "data": {
      "text/plain": [
       "\"\\nfrom imblearn.over_sampling import SMOTE\\nsm = SMOTE('minority')\\nx_train_res, y_train_res = sm.fit_sample(X_train, Y_train)\\nprint(x_train_res.shape, y_train_res.shape)\\n\""
      ]
     },
     "execution_count": 377,
     "metadata": {},
     "output_type": "execute_result"
    }
   ],
   "source": [
    "\"\"\"\n",
    "from imblearn.over_sampling import SMOTE\n",
    "sm = SMOTE('minority')\n",
    "x_train_res, y_train_res = sm.fit_sample(X_train, Y_train)\n",
    "print(x_train_res.shape, y_train_res.shape)\n",
    "\"\"\""
   ]
  },
  {
   "cell_type": "code",
   "execution_count": 378,
   "metadata": {},
   "outputs": [
    {
     "data": {
      "text/plain": [
       "array([[0., 0., 0., 0., 0., 1.],\n",
       "       [1., 0., 0., 0., 0., 0.],\n",
       "       [1., 0., 0., 0., 0., 0.],\n",
       "       [0., 0., 0., 0., 0., 1.],\n",
       "       [0., 1., 0., 0., 0., 0.]], dtype=float32)"
      ]
     },
     "execution_count": 378,
     "metadata": {},
     "output_type": "execute_result"
    }
   ],
   "source": [
    "from keras.utils import to_categorical\n",
    "#one-hot encode target column\n",
    "train_y_2 = to_categorical(Y_train)\n",
    "test_y_2 = to_categorical(Y_test)\n",
    "\n",
    "#vcheck that target column has been converted\n",
    "train_y_2[0:5]"
   ]
  },
  {
   "cell_type": "code",
   "execution_count": 379,
   "metadata": {},
   "outputs": [],
   "source": [
    "from keras.models import Sequential\n",
    "from keras.layers import Dense, Dropout, Activation\n",
    "from keras.optimizers import SGD\n",
    "from keras.utils.vis_utils import plot_model\n",
    "\n",
    "#create model\n",
    "model = Sequential()\n",
    "\n",
    "#get number of columns in training data\n",
    "n_cols = X_train.shape[1]\n",
    "\n",
    "#add layers to model\n",
    "model.add(Dense(200, activation='relu', input_shape=(n_cols,)))\n",
    "model.add(Dense(200, activation='relu'))\n",
    "model.add(Dense(200, activation='relu'))\n",
    "model.add(Dense(200, activation='relu'))\n",
    "model.add(Dense(200, activation='relu'))\n",
    "model.add(Dense(200, activation='relu'))\n",
    "\n",
    "model.add(Dense(6, activation='softmax'))\n"
   ]
  },
  {
   "cell_type": "code",
   "execution_count": 380,
   "metadata": {},
   "outputs": [],
   "source": [
    "#compile model using accuracy to measure model performance\n",
    "model.compile(optimizer='adam', loss='categorical_crossentropy', metrics=['accuracy'])"
   ]
  },
  {
   "cell_type": "code",
   "execution_count": 381,
   "metadata": {},
   "outputs": [
    {
     "name": "stdout",
     "output_type": "stream",
     "text": [
      "Train on 19448 samples, validate on 4862 samples\n",
      "Epoch 1/20\n",
      "19448/19448 [==============================] - 4s 182us/step - loss: 1.1874 - acc: 0.5171 - val_loss: 1.0131 - val_acc: 0.6070\n",
      "Epoch 2/20\n",
      "19448/19448 [==============================] - 3s 132us/step - loss: 1.0182 - acc: 0.5970 - val_loss: 1.0228 - val_acc: 0.6059\n",
      "Epoch 3/20\n",
      "19448/19448 [==============================] - 2s 128us/step - loss: 0.9927 - acc: 0.6047 - val_loss: 0.9876 - val_acc: 0.6261\n",
      "Epoch 4/20\n",
      "19448/19448 [==============================] - 2s 127us/step - loss: 0.9538 - acc: 0.6195 - val_loss: 0.9362 - val_acc: 0.6329\n",
      "Epoch 5/20\n",
      "19448/19448 [==============================] - 2s 128us/step - loss: 0.9507 - acc: 0.6220 - val_loss: 0.9434 - val_acc: 0.6442\n",
      "Epoch 6/20\n",
      "19448/19448 [==============================] - 3s 133us/step - loss: 0.9378 - acc: 0.6273 - val_loss: 0.9073 - val_acc: 0.6407\n",
      "Epoch 7/20\n",
      "19448/19448 [==============================] - 3s 131us/step - loss: 0.9361 - acc: 0.6254 - val_loss: 0.9275 - val_acc: 0.6283\n",
      "Epoch 8/20\n",
      "19448/19448 [==============================] - 3s 136us/step - loss: 0.9207 - acc: 0.6344 - val_loss: 0.8991 - val_acc: 0.6448\n",
      "Epoch 9/20\n",
      "19448/19448 [==============================] - 3s 133us/step - loss: 0.9155 - acc: 0.6382 - val_loss: 0.9001 - val_acc: 0.6569\n",
      "Epoch 10/20\n",
      "19448/19448 [==============================] - 3s 133us/step - loss: 0.9144 - acc: 0.6378 - val_loss: 0.9058 - val_acc: 0.6337\n",
      "Epoch 11/20\n",
      "19448/19448 [==============================] - 3s 131us/step - loss: 0.8952 - acc: 0.6434 - val_loss: 0.8936 - val_acc: 0.6561\n",
      "Epoch 12/20\n",
      "19448/19448 [==============================] - 3s 136us/step - loss: 0.9011 - acc: 0.6394 - val_loss: 0.8908 - val_acc: 0.6493\n",
      "Epoch 13/20\n",
      "19448/19448 [==============================] - 3s 132us/step - loss: 0.8938 - acc: 0.6417 - val_loss: 0.9201 - val_acc: 0.6460\n",
      "Epoch 14/20\n",
      "19448/19448 [==============================] - 3s 136us/step - loss: 0.8881 - acc: 0.6479 - val_loss: 0.8925 - val_acc: 0.6528\n",
      "Epoch 15/20\n",
      "19448/19448 [==============================] - 3s 133us/step - loss: 0.8919 - acc: 0.6451 - val_loss: 0.8828 - val_acc: 0.6477\n",
      "Epoch 16/20\n",
      "19448/19448 [==============================] - 3s 133us/step - loss: 0.8873 - acc: 0.6456 - val_loss: 0.9122 - val_acc: 0.6446\n",
      "Epoch 17/20\n",
      "19448/19448 [==============================] - 3s 136us/step - loss: 0.8883 - acc: 0.6435 - val_loss: 0.8832 - val_acc: 0.6497\n",
      "Epoch 18/20\n",
      "19448/19448 [==============================] - 3s 137us/step - loss: 0.8744 - acc: 0.6487 - val_loss: 0.8737 - val_acc: 0.6524\n",
      "Epoch 19/20\n",
      "19448/19448 [==============================] - 3s 133us/step - loss: 0.8784 - acc: 0.6456 - val_loss: 0.9344 - val_acc: 0.6372\n",
      "Epoch 20/20\n",
      "19448/19448 [==============================] - 3s 139us/step - loss: 0.8700 - acc: 0.6473 - val_loss: 0.9295 - val_acc: 0.6440\n"
     ]
    }
   ],
   "source": [
    "from keras.callbacks import EarlyStopping \n",
    "early_stopping_monitor = EarlyStopping(patience=10)\n",
    "\n",
    "#train model\n",
    "history = model.fit(X_train, train_y_2, epochs=20, validation_split=0.2, callbacks=[early_stopping_monitor])"
   ]
  },
  {
   "cell_type": "code",
   "execution_count": 382,
   "metadata": {},
   "outputs": [
    {
     "name": "stdout",
     "output_type": "stream",
     "text": [
      "Training Accuracy: 0.647, Test Accuracy: 0.643\n"
     ]
    },
    {
     "data": {
      "image/png": "[encoded data removed]",
      "text/plain": [
       "<Figure size 432x288 with 1 Axes>"
      ]
     },
     "metadata": {
      "needs_background": "light"
     },
     "output_type": "display_data"
    },
    {
     "data": {
      "image/png": "[encoded data removed]",
      "text/plain": [
       "<Figure size 432x288 with 1 Axes>"
      ]
     },
     "metadata": {
      "needs_background": "light"
     },
     "output_type": "display_data"
    }
   ],
   "source": [
    "# Evaluate Model\n",
    "\n",
    "_, train_acc = model.evaluate(X_train, train_y_2, verbose = 0)\n",
    "_, test_acc = model.evaluate(X_test, test_y_2, verbose = 0)\n",
    "print('Training Accuracy: %.3f, Test Accuracy: %.3f' %(train_acc, test_acc))\n",
    "\n",
    "from matplotlib import pyplot\n",
    "# plot loss during training\n",
    "pyplot.subplot(211)\n",
    "pyplot.title('Loss Over Epochs')\n",
    "pyplot.xlabel('epochs')\n",
    "pyplot.ylabel('loss')\n",
    "pyplot.plot(history.history['loss'], label='train')\n",
    "pyplot.plot(history.history['val_loss'], label='test')\n",
    "pyplot.legend()\n",
    "pyplot.show()\n",
    "\n",
    "# plot accuracy during training\n",
    "pyplot.subplot(212)\n",
    "pyplot.title('Accuracy Over Epochs')\n",
    "pyplot.xlabel('epochs')\n",
    "pyplot.ylabel('accuracy')\n",
    "pyplot.plot(history.history['acc'], label='train')\n",
    "pyplot.plot(history.history['val_acc'], label='test')\n",
    "pyplot.legend()\n",
    "pyplot.show()"
   ]
  },
  {
   "cell_type": "code",
   "execution_count": 383,
   "metadata": {},
   "outputs": [
    {
     "name": "stdout",
     "output_type": "stream",
     "text": [
      "_________________________________________________________________\n",
      "Layer (type)                 Output Shape              Param #   \n",
      "=================================================================\n",
      "dense_50 (Dense)             (None, 200)               2200      \n",
      "_________________________________________________________________\n",
      "dense_51 (Dense)             (None, 200)               40200     \n",
      "_________________________________________________________________\n",
      "dense_52 (Dense)             (None, 200)               40200     \n",
      "_________________________________________________________________\n",
      "dense_53 (Dense)             (None, 200)               40200     \n",
      "_________________________________________________________________\n",
      "dense_54 (Dense)             (None, 200)               40200     \n",
      "_________________________________________________________________\n",
      "dense_55 (Dense)             (None, 200)               40200     \n",
      "_________________________________________________________________\n",
      "dense_56 (Dense)             (None, 6)                 1206      \n",
      "=================================================================\n",
      "Total params: 204,406\n",
      "Trainable params: 204,406\n",
      "Non-trainable params: 0\n",
      "_________________________________________________________________\n"
     ]
    }
   ],
   "source": [
    "model.summary()"
   ]
  },
  {
   "cell_type": "code",
   "execution_count": 384,
   "metadata": {},
   "outputs": [],
   "source": [
    "y_score = model.predict(X_test)"
   ]
  },
  {
   "cell_type": "code",
   "execution_count": 385,
   "metadata": {},
   "outputs": [
    {
     "name": "stdout",
     "output_type": "stream",
     "text": [
      "[[ 587   18    0   35   19  111]\n",
      " [  38  820    4   67  362  230]\n",
      " [   1    4  206   30    6    9]\n",
      " [  30  122   13  442   36   51]\n",
      " [   9  404    8   58 1419   20]\n",
      " [  81  248    0  102   52  436]]\n"
     ]
    }
   ],
   "source": [
    "from sklearn.metrics import confusion_matrix\n",
    "cnf_matrix = confusion_matrix(test_y_2.argmax(axis=1), y_score.argmax(axis=1))\n",
    "print(cnf_matrix)"
   ]
  },
  {
   "cell_type": "code",
   "execution_count": 386,
   "metadata": {},
   "outputs": [],
   "source": [
    "import numpy as np\n",
    "from scipy import interp\n",
    "import matplotlib.pyplot as plt\n",
    "from itertools import cycle\n",
    "from sklearn.metrics import roc_curve, auc"
   ]
  },
  {
   "cell_type": "code",
   "execution_count": 387,
   "metadata": {},
   "outputs": [
    {
     "name": "stdout",
     "output_type": "stream",
     "text": [
      "Normalized confusion matrix\n"
     ]
    },
    {
     "data": {
      "image/png": "[encoded data removed]",
      "text/plain": [
       "<Figure size 1008x864 with 2 Axes>"
      ]
     },
     "metadata": {
      "needs_background": "light"
     },
     "output_type": "display_data"
    }
   ],
   "source": [
    "import matplotlib.pyplot as plt\n",
    "def plot_confusion_matrix(cm, classes,\n",
    "                          normalize=False,\n",
    "                          title='Confusion matrix',\n",
    "                          cmap=plt.cm.Blues):\n",
    "    \"\"\"\n",
    "    This function prints and plots the confusion matrix.\n",
    "    Normalization can be applied by setting `normalize=True`.\n",
    "    \"\"\"\n",
    "    import itertools  \n",
    "    import matplotlib.pyplot as plt\n",
    "    if normalize:\n",
    "        cm = cm.astype('float') / cm.sum(axis=1)[:, np.newaxis]\n",
    "        print(\"Normalized confusion matrix\")\n",
    "    else:\n",
    "        print('Confusion matrix, without normalization')\n",
    "\n",
    "    # print(cm)\n",
    "\n",
    "    plt.imshow(cm, interpolation='nearest', cmap=cmap)\n",
    "    plt.title(title)\n",
    "    plt.colorbar()\n",
    "    tick_marks = np.arange(len(classes))\n",
    "    plt.xticks(tick_marks, classes, rotation=90)\n",
    "    plt.yticks(tick_marks, classes)\n",
    "\n",
    "    fmt = '.2f' if normalize else 'd'\n",
    "    thresh = cm.max() / 2.\n",
    "    for i, j in itertools.product(range(cm.shape[0]), range(cm.shape[1])):\n",
    "        plt.text(j, i, format(cm[i, j], fmt),\n",
    "                 horizontalalignment=\"center\",\n",
    "                 color=\"white\" if cm[i, j] > thresh else \"black\")\n",
    "\n",
    "    plt.tight_layout()\n",
    "    plt.ylabel('True label')\n",
    "    plt.xlabel('Predicted label')\n",
    "\n",
    "\n",
    "#y_pred = model.predict(x_test);\n",
    "#cnf_matrix = confusion_matrix(np.argmax(y_test, axis=1), np.argmax(y_pred, axis=1))\n",
    "\n",
    "# Plot normalized confusion matrix\n",
    "fig = plt.figure()\n",
    "fig.set_size_inches(14, 12, forward=True)\n",
    "#fig.align_labels()\n",
    "\n",
    "# fig.subplots_adjust(left=0.0, right=1.0, bottom=0.0, top=1.0)\n",
    "plot_confusion_matrix(cnf_matrix, classes=np.asarray(text_label), normalize=True,\n",
    "                      title='Normalized confusion matrix')\n",
    "\n",
    "#fig.savefig(\"txt_classification-smote\" + str(num_epochs) + \".png\", pad_inches=5.0)\n"
   ]
  },
  {
   "cell_type": "code",
   "execution_count": 388,
   "metadata": {},
   "outputs": [
    {
     "data": {
      "image/png": "[encoded data removed]",
      "text/plain": [
       "<Figure size 432x288 with 1 Axes>"
      ]
     },
     "metadata": {
      "needs_background": "light"
     },
     "output_type": "display_data"
    },
    {
     "data": {
      "image/png": "[encoded data removed]",
      "text/plain": [
       "<Figure size 432x288 with 1 Axes>"
      ]
     },
     "metadata": {
      "needs_background": "light"
     },
     "output_type": "display_data"
    }
   ],
   "source": [
    "import numpy as np\n",
    "from scipy import interp\n",
    "import matplotlib.pyplot as plt\n",
    "from itertools import cycle\n",
    "from sklearn.metrics import roc_curve, auc\n",
    "\n",
    "# Plot linewidth.\n",
    "lw = 2\n",
    "n_classes = 6\n",
    "\n",
    "# Compute ROC curve and ROC area for each class\n",
    "fpr = dict()\n",
    "tpr = dict()\n",
    "roc_auc = dict()\n",
    "for i in range(n_classes):\n",
    "    fpr[i], tpr[i], _ = roc_curve(test_y_2[:, i], y_score[:, i])\n",
    "    roc_auc[i] = auc(fpr[i], tpr[i])\n",
    "\n",
    "# Compute micro-average ROC curve and ROC area\n",
    "fpr[\"micro\"], tpr[\"micro\"], _ = roc_curve(test_y_2.ravel(), y_score.ravel())\n",
    "roc_auc[\"micro\"] = auc(fpr[\"micro\"], tpr[\"micro\"])\n",
    "\n",
    "# Compute macro-average ROC curve and ROC area\n",
    "\n",
    "# First aggregate all false positive rates\n",
    "all_fpr = np.unique(np.concatenate([fpr[i] for i in range(n_classes)]))\n",
    "\n",
    "# Then interpolate all ROC curves at this points\n",
    "mean_tpr = np.zeros_like(all_fpr)\n",
    "for i in range(n_classes):\n",
    "    mean_tpr += interp(all_fpr, fpr[i], tpr[i])\n",
    "\n",
    "# Finally average it and compute AUC\n",
    "mean_tpr /= n_classes\n",
    "\n",
    "fpr[\"macro\"] = all_fpr\n",
    "tpr[\"macro\"] = mean_tpr\n",
    "roc_auc[\"macro\"] = auc(fpr[\"macro\"], tpr[\"macro\"])\n",
    "\n",
    "# Plot all ROC curves\n",
    "plt.figure(1)\n",
    "plt.plot(fpr[\"micro\"], tpr[\"micro\"],\n",
    "         label='micro-average ROC curve (area = {0:0.2f})'\n",
    "               ''.format(roc_auc[\"micro\"]),\n",
    "         color='deeppink', linestyle=':', linewidth=4)\n",
    "\n",
    "plt.plot(fpr[\"macro\"], tpr[\"macro\"],\n",
    "         label='macro-average ROC curve (area = {0:0.2f})'\n",
    "               ''.format(roc_auc[\"macro\"]),\n",
    "         color='navy', linestyle=':', linewidth=4)\n",
    "\n",
    "colors = cycle(['aqua', 'darkorange', 'cornflowerblue'])\n",
    "for i, color in zip(range(n_classes), colors):\n",
    "    plt.plot(fpr[i], tpr[i], color=color, lw=lw,\n",
    "             label='ROC curve of class {0} (area = {1:0.2f})'\n",
    "             ''.format(i, roc_auc[i]))\n",
    "\n",
    "plt.plot([0, 1], [0, 1], 'k--', lw=lw)\n",
    "plt.xlim([0.0, 1.0])\n",
    "plt.ylim([0.0, 1.05])\n",
    "plt.xlabel('False Positive Rate')\n",
    "plt.ylabel('True Positive Rate')\n",
    "plt.title('ROC Curve for multi-class classification')\n",
    "plt.legend(loc=\"lower right\")\n",
    "plt.show()\n",
    "\n",
    "\n",
    "# Zoom in view of the upper left corner.\n",
    "plt.figure(2)\n",
    "plt.xlim(0, 0.2)\n",
    "plt.ylim(0.8, 1)\n",
    "plt.plot(fpr[\"micro\"], tpr[\"micro\"],\n",
    "         label='micro-average ROC curve (area = {0:0.2f})'\n",
    "               ''.format(roc_auc[\"micro\"]),\n",
    "         color='deeppink', linestyle=':', linewidth=4)\n",
    "\n",
    "plt.plot(fpr[\"macro\"], tpr[\"macro\"],\n",
    "         label='macro-average ROC curve (area = {0:0.2f})'\n",
    "               ''.format(roc_auc[\"macro\"]),\n",
    "         color='navy', linestyle=':', linewidth=4)\n",
    "\n",
    "colors = cycle(['aqua', 'darkorange', 'cornflowerblue'])\n",
    "for i, color in zip(range(n_classes), colors):\n",
    "    plt.plot(fpr[i], tpr[i], color=color, lw=lw,\n",
    "             label='ROC curve of class {0} (area = {1:0.2f})'\n",
    "             ''.format(i, roc_auc[i]))\n",
    "\n",
    "plt.plot([0, 1], [0, 1], 'k--', lw=lw)\n",
    "plt.xlabel('False Positive Rate')\n",
    "plt.ylabel('True Positive Rate')\n",
    "plt.title('ROC Curve for multi-class classification')\n",
    "plt.legend(loc=\"lower right\")\n",
    "plt.show()"
   ]
  },
  {
   "cell_type": "code",
   "execution_count": null,
   "metadata": {},
   "outputs": [],
   "source": []
  }
 ],
 "metadata": {
  "kernelspec": {
   "display_name": "Python 3",
   "language": "python",
   "name": "python3"
  },
  "language_info": {
   "codemirror_mode": {
    "name": "ipython",
    "version": 3
   },
   "file_extension": ".py",
   "mimetype": "text/x-python",
   "name": "python",
   "nbconvert_exporter": "python",
   "pygments_lexer": "ipython3",
   "version": "3.6.8"
  }
 },
 "nbformat": 4,
 "nbformat_minor": 2
}
