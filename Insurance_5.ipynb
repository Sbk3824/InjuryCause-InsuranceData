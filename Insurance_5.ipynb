{
 "cells": [
  {
   "cell_type": "code",
   "execution_count": 1,
   "metadata": {},
   "outputs": [
    {
     "name": "stdout",
     "output_type": "stream",
     "text": [
      "['Sheet1']\n",
      "<class 'pandas.core.frame.DataFrame'>\n",
      "RangeIndex: 39782 entries, 0 to 39781\n",
      "Data columns (total 34 columns):\n",
      "Claim                               39782 non-null int64\n",
      "Effective Year                      39782 non-null int64\n",
      "Account                             39782 non-null int64\n",
      "Market                              39782 non-null object\n",
      "Sex                                 39778 non-null object\n",
      "Jurisdiction State                  39781 non-null object\n",
      "Accident State                      39782 non-null object\n",
      "Classcode                           39782 non-null object\n",
      "Class Desription                    39606 non-null object\n",
      "Occupation                          39782 non-null object\n",
      "Date of Birth                       39781 non-null datetime64[ns]\n",
      "Date of Hire                        39782 non-null datetime64[ns]\n",
      "Accident Date                       39782 non-null datetime64[ns]\n",
      "Experience Years                    39782 non-null float64\n",
      "Age at Accident Date                39782 non-null float64\n",
      "Date Reported to Employer           39782 non-null datetime64[ns]\n",
      "Report Date                         39782 non-null datetime64[ns]\n",
      "Date of Disability                  39782 non-null datetime64[ns]\n",
      "Date Returened to Work              39782 non-null datetime64[ns]\n",
      "Claim Description                   39781 non-null object\n",
      "Claim Status                        39782 non-null object\n",
      "Type of Injury Code                 39782 non-null int64\n",
      "Type of Injury                      39782 non-null object\n",
      "Body Part                           39778 non-null object\n",
      "Body Part Group                     39778 non-null object\n",
      "Cause of Injury                     39778 non-null object\n",
      "Case of Injury Group                39778 non-null object\n",
      "Nature of Injury                    39778 non-null object\n",
      "Nature of Injury Group              39778 non-null object\n",
      "Total Incurred Amount               34003 non-null float64\n",
      "Indemnity                           34003 non-null float64\n",
      "Medical                             34003 non-null float64\n",
      "Expenses                            34003 non-null float64\n",
      "Sum (Medical-Indemnity-Expenses)    34003 non-null float64\n",
      "dtypes: datetime64[ns](7), float64(7), int64(4), object(16)\n",
      "memory usage: 10.3+ MB\n"
     ]
    }
   ],
   "source": [
    "import pandas as pd\n",
    "import numpy as np\n",
    "\n",
    "data = pd.ExcelFile('Data-All.xlsx')\n",
    "print(data.sheet_names)\n",
    "df1 = data.parse('Sheet1')\n",
    "df1.info()"
   ]
  },
  {
   "cell_type": "code",
   "execution_count": 2,
   "metadata": {},
   "outputs": [
    {
     "name": "stdout",
     "output_type": "stream",
     "text": [
      "<class 'pandas.core.frame.DataFrame'>\n",
      "RangeIndex: 39782 entries, 0 to 39781\n",
      "Data columns (total 34 columns):\n",
      "claim                               39782 non-null int64\n",
      "effective_year                      39782 non-null int64\n",
      "account                             39782 non-null int64\n",
      "market                              39782 non-null object\n",
      "sex                                 39778 non-null object\n",
      "jurisdiction_state                  39781 non-null object\n",
      "accident_state                      39782 non-null object\n",
      "classcode                           39782 non-null object\n",
      "class_desription                    39606 non-null object\n",
      "occupation                          39782 non-null object\n",
      "date_of_birth                       39781 non-null datetime64[ns]\n",
      "date_of_hire                        39782 non-null datetime64[ns]\n",
      "accident_date                       39782 non-null datetime64[ns]\n",
      "experience_years                    39782 non-null float64\n",
      "age_at_accident_date                39782 non-null float64\n",
      "date_reported_to_employer           39782 non-null datetime64[ns]\n",
      "report_date                         39782 non-null datetime64[ns]\n",
      "date_of_disability                  39782 non-null datetime64[ns]\n",
      "date_returened_to_work              39782 non-null datetime64[ns]\n",
      "claim_description                   39781 non-null object\n",
      "claim_status                        39782 non-null object\n",
      "type_of_injury_code                 39782 non-null int64\n",
      "type_of_injury                      39782 non-null object\n",
      "body_part                           39778 non-null object\n",
      "body_part_group                     39778 non-null object\n",
      "cause_of_injury                     39778 non-null object\n",
      "case_of_injury_group                39778 non-null object\n",
      "nature_of_injury                    39778 non-null object\n",
      "nature_of_injury_group              39778 non-null object\n",
      "total_incurred_amount               34003 non-null float64\n",
      "indemnity                           34003 non-null float64\n",
      "medical                             34003 non-null float64\n",
      "expenses                            34003 non-null float64\n",
      "sum_(medical-indemnity-expenses)    34003 non-null float64\n",
      "dtypes: datetime64[ns](7), float64(7), int64(4), object(16)\n",
      "memory usage: 10.3+ MB\n"
     ]
    }
   ],
   "source": [
    "# Replace the spaces in clumn names to underscore \n",
    "\n",
    "df1.columns = df1.columns.str.replace(' ','_')\n",
    "\n",
    "# conver column headers to lower case\n",
    "\n",
    "df1.columns = df1.columns.str.lower()\n",
    "\n",
    "df1.info()"
   ]
  },
  {
   "cell_type": "code",
   "execution_count": 3,
   "metadata": {},
   "outputs": [
    {
     "data": {
      "text/plain": [
       "(39778, 34)"
      ]
     },
     "execution_count": 3,
     "metadata": {},
     "output_type": "execute_result"
    }
   ],
   "source": [
    "# Removal of top of four rows\n",
    "df2 = df1[4:]\n",
    "df2.shape"
   ]
  },
  {
   "cell_type": "code",
   "execution_count": 4,
   "metadata": {},
   "outputs": [
    {
     "name": "stdout",
     "output_type": "stream",
     "text": [
      "Removing features...\n",
      "Index(['claim', 'effective_year', 'account', 'jurisdiction_state',\n",
      "       'class_desription', 'date_of_birth', 'date_of_hire', 'accident_date',\n",
      "       'date_reported_to_employer', 'report_date', 'date_of_disability',\n",
      "       'date_returened_to_work', 'claim_description', 'claim_status',\n",
      "       'type_of_injury_code', 'body_part', 'cause_of_injury',\n",
      "       'nature_of_injury_group', 'total_incurred_amount', 'indemnity',\n",
      "       'medical', 'expenses', 'sum_(medical-indemnity-expenses)'],\n",
      "      dtype='object')\n"
     ]
    },
    {
     "name": "stderr",
     "output_type": "stream",
     "text": [
      "C:\\Users\\SUJITH KUMAR\\Anaconda3\\lib\\site-packages\\pandas\\core\\frame.py:3940: SettingWithCopyWarning: \n",
      "A value is trying to be set on a copy of a slice from a DataFrame\n",
      "\n",
      "See the caveats in the documentation: http://pandas.pydata.org/pandas-docs/stable/indexing.html#indexing-view-versus-copy\n",
      "  errors=errors)\n"
     ]
    }
   ],
   "source": [
    "# Features to be removed from the data\n",
    "print('Removing features...')\n",
    "print(df2.columns[[0, 1, 2, 5, 8, 10, 11, 12, 15, 16, 17, 18, 19, 20, 21, 23, 25, 28, 29, 30, 31, 32, 33]])\n",
    "df2.drop(df2.columns[[0, 1, 2, 5, 8, 10, 11, 12, 15, 16, 17, 18, 19, 20, 21, 23, 25, 28, 29, 30, 31, 32, 33]], axis=1, inplace=True)"
   ]
  },
  {
   "cell_type": "code",
   "execution_count": 5,
   "metadata": {},
   "outputs": [],
   "source": [
    "searchfor = ['Rubbed or Abraded by', 'Lifting or Handling']\n",
    "df2 = df2[~df2.case_of_injury_group.str.contains('|'.join(searchfor))]"
   ]
  },
  {
   "cell_type": "code",
   "execution_count": 6,
   "metadata": {},
   "outputs": [
    {
     "data": {
      "text/plain": [
       "Strain or Injury by                10516\n",
       "Fall, Slip, or Trip Injury          8855\n",
       "Struck or Injured by                5888\n",
       "Cut, Puncture, Scrape               4261\n",
       "Miscellaneous                       4034\n",
       "Caught In, Under, or Between        1477\n",
       "Heat or Cold Exposures              1408\n",
       "Striking Against or Stepping On     1280\n",
       "Vehicle                             1265\n",
       "Name: case_of_injury_group, dtype: int64"
      ]
     },
     "execution_count": 6,
     "metadata": {},
     "output_type": "execute_result"
    }
   ],
   "source": [
    "df2['case_of_injury_group'].value_counts()"
   ]
  },
  {
   "cell_type": "code",
   "execution_count": 7,
   "metadata": {},
   "outputs": [
    {
     "data": {
      "text/plain": [
       "['Caught In, Under, or Between',\n",
       " 'Cut, Puncture, Scrape',\n",
       " 'Fall, Slip, or Trip Injury',\n",
       " 'Heat or Cold Exposures',\n",
       " 'Miscellaneous',\n",
       " 'Strain or Injury by',\n",
       " 'Striking Against or Stepping On',\n",
       " 'Struck or Injured by',\n",
       " 'Vehicle']"
      ]
     },
     "execution_count": 7,
     "metadata": {},
     "output_type": "execute_result"
    }
   ],
   "source": [
    "text_label = ['Caught In, Under, or Between', 'Cut, Puncture, Scrape', 'Fall, Slip, or Trip Injury', \n",
    "                    'Heat or Cold Exposures', 'Miscellaneous', 'Strain or Injury by', \n",
    "                    'Striking Against or Stepping On', 'Struck or Injured by', 'Vehicle'\n",
    "        ]\n",
    "text_label"
   ]
  },
  {
   "cell_type": "code",
   "execution_count": 8,
   "metadata": {},
   "outputs": [
    {
     "data": {
      "text/plain": [
       "Strain or Injury by                10516\n",
       "Fall, Slip, or Trip Injury          8855\n",
       "Struck or Injured by                5888\n",
       "Cut, Puncture, Scrape               4261\n",
       "Miscellaneous                       4034\n",
       "Caught In, Under, or Between        1477\n",
       "Heat or Cold Exposures              1408\n",
       "Striking Against or Stepping On     1280\n",
       "Vehicle                             1265\n",
       "Name: case_of_injury_group, dtype: int64"
      ]
     },
     "execution_count": 8,
     "metadata": {},
     "output_type": "execute_result"
    }
   ],
   "source": [
    "check = df2['case_of_injury_group'].value_counts()\n",
    "check"
   ]
  },
  {
   "cell_type": "code",
   "execution_count": 9,
   "metadata": {},
   "outputs": [],
   "source": [
    "# Standardization of features\n",
    "df2[\"experience_years\"] = (df2[\"experience_years\"]-df2[\"experience_years\"].min()) / (df2[\"experience_years\"].max()-df2[\"experience_years\"].min())\n",
    "df2[\"age_at_accident_date\"] = (df2[\"age_at_accident_date\"]-df2[\"age_at_accident_date\"].min()) / (df2[\"age_at_accident_date\"].max()-df2[\"age_at_accident_date\"].min())"
   ]
  },
  {
   "cell_type": "code",
   "execution_count": null,
   "metadata": {},
   "outputs": [],
   "source": []
  },
  {
   "cell_type": "code",
   "execution_count": 10,
   "metadata": {},
   "outputs": [],
   "source": [
    "from sklearn.preprocessing import LabelEncoder\n",
    "\n",
    "LE = LabelEncoder()\n",
    "\n",
    "df2['market'] = LE.fit_transform(df2['market'])\n",
    "df2['type_of_injury'] = LE.fit_transform(df2['type_of_injury'])\n",
    "df2['case_of_injury_group'] = LE.fit_transform(df2['case_of_injury_group'])\n",
    "df2['nature_of_injury'] = LE.fit_transform(df2['nature_of_injury'])\n",
    "df2['body_part_group'] = LE.fit_transform(df2['body_part_group'])\n",
    "df2['occupation'] = LE.fit_transform(df2['occupation'].astype(str))\n",
    "df2['accident_state'] = LE.fit_transform(df2['accident_state'])\n",
    "df2['sex'] = LE.fit_transform(df2['sex'])\n",
    "df2['classcode'] = LE.fit_transform(df2['classcode'].astype(str))"
   ]
  },
  {
   "cell_type": "code",
   "execution_count": 11,
   "metadata": {},
   "outputs": [],
   "source": [
    "# Standardization\n",
    "\n",
    "df2[\"nature_of_injury\"] = (df2[\"nature_of_injury\"]-df2[\"nature_of_injury\"].min()) / (df2[\"nature_of_injury\"].max()-df2[\"nature_of_injury\"].min())\n",
    "df2[\"accident_state\"] = (df2[\"accident_state\"]-df2[\"accident_state\"].min()) / (df2[\"accident_state\"].max()-df2[\"accident_state\"].min())\n",
    "df2[\"type_of_injury\"] = (df2[\"type_of_injury\"]-df2[\"type_of_injury\"].min()) / (df2[\"type_of_injury\"].max()-df2[\"type_of_injury\"].min())\n",
    "df2[\"occupation\"] = (df2[\"occupation\"]-df2[\"occupation\"].min()) / (df2[\"occupation\"].max()-df2[\"occupation\"].min())\n",
    "df2[\"classcode\"] = (df2[\"classcode\"]-df2[\"classcode\"].min()) / (df2[\"classcode\"].max()-df2[\"classcode\"].min())\n",
    "df2[\"body_part_group\"] = (df2[\"body_part_group\"]-df2[\"body_part_group\"].min()) / (df2[\"body_part_group\"].max()-df2[\"body_part_group\"].min())\n",
    "df2[\"market\"] = (df2[\"market\"]-df2[\"market\"].min()) / (df2[\"market\"].max()-df2[\"market\"].min())\n",
    "df2[\"sex\"] = (df2[\"sex\"]-df2[\"sex\"].min()) / (df2[\"sex\"].max()-df2[\"sex\"].min())"
   ]
  },
  {
   "cell_type": "code",
   "execution_count": 12,
   "metadata": {},
   "outputs": [
    {
     "data": {
      "text/html": [
       "<div>\n",
       "<style scoped>\n",
       "    .dataframe tbody tr th:only-of-type {\n",
       "        vertical-align: middle;\n",
       "    }\n",
       "\n",
       "    .dataframe tbody tr th {\n",
       "        vertical-align: top;\n",
       "    }\n",
       "\n",
       "    .dataframe thead th {\n",
       "        text-align: right;\n",
       "    }\n",
       "</style>\n",
       "<table border=\"1\" class=\"dataframe\">\n",
       "  <thead>\n",
       "    <tr style=\"text-align: right;\">\n",
       "      <th></th>\n",
       "      <th>market</th>\n",
       "      <th>sex</th>\n",
       "      <th>accident_state</th>\n",
       "      <th>classcode</th>\n",
       "      <th>occupation</th>\n",
       "      <th>experience_years</th>\n",
       "      <th>age_at_accident_date</th>\n",
       "      <th>type_of_injury</th>\n",
       "      <th>body_part_group</th>\n",
       "      <th>case_of_injury_group</th>\n",
       "      <th>nature_of_injury</th>\n",
       "    </tr>\n",
       "  </thead>\n",
       "  <tbody>\n",
       "    <tr>\n",
       "      <th>4</th>\n",
       "      <td>0.750000</td>\n",
       "      <td>0.5</td>\n",
       "      <td>0.44</td>\n",
       "      <td>0.340081</td>\n",
       "      <td>0.846971</td>\n",
       "      <td>0.552271</td>\n",
       "      <td>0.589935</td>\n",
       "      <td>0.666667</td>\n",
       "      <td>0.666667</td>\n",
       "      <td>2</td>\n",
       "      <td>0.666667</td>\n",
       "    </tr>\n",
       "    <tr>\n",
       "      <th>5</th>\n",
       "      <td>0.750000</td>\n",
       "      <td>0.5</td>\n",
       "      <td>0.90</td>\n",
       "      <td>0.340081</td>\n",
       "      <td>0.940864</td>\n",
       "      <td>0.557574</td>\n",
       "      <td>0.746223</td>\n",
       "      <td>0.333333</td>\n",
       "      <td>0.166667</td>\n",
       "      <td>2</td>\n",
       "      <td>0.666667</td>\n",
       "    </tr>\n",
       "    <tr>\n",
       "      <th>6</th>\n",
       "      <td>0.520833</td>\n",
       "      <td>0.5</td>\n",
       "      <td>0.04</td>\n",
       "      <td>0.052632</td>\n",
       "      <td>0.478880</td>\n",
       "      <td>0.447336</td>\n",
       "      <td>0.506133</td>\n",
       "      <td>0.000000</td>\n",
       "      <td>0.500000</td>\n",
       "      <td>7</td>\n",
       "      <td>0.666667</td>\n",
       "    </tr>\n",
       "    <tr>\n",
       "      <th>7</th>\n",
       "      <td>0.479167</td>\n",
       "      <td>0.5</td>\n",
       "      <td>0.04</td>\n",
       "      <td>0.052632</td>\n",
       "      <td>0.532344</td>\n",
       "      <td>0.429462</td>\n",
       "      <td>0.567563</td>\n",
       "      <td>0.333333</td>\n",
       "      <td>0.166667</td>\n",
       "      <td>7</td>\n",
       "      <td>0.666667</td>\n",
       "    </tr>\n",
       "    <tr>\n",
       "      <th>8</th>\n",
       "      <td>0.479167</td>\n",
       "      <td>0.0</td>\n",
       "      <td>0.04</td>\n",
       "      <td>0.052632</td>\n",
       "      <td>0.645667</td>\n",
       "      <td>0.429266</td>\n",
       "      <td>0.626362</td>\n",
       "      <td>1.000000</td>\n",
       "      <td>0.500000</td>\n",
       "      <td>2</td>\n",
       "      <td>0.666667</td>\n",
       "    </tr>\n",
       "  </tbody>\n",
       "</table>\n",
       "</div>"
      ],
      "text/plain": [
       "     market  sex  accident_state  classcode  occupation  experience_years  \\\n",
       "4  0.750000  0.5            0.44   0.340081    0.846971          0.552271   \n",
       "5  0.750000  0.5            0.90   0.340081    0.940864          0.557574   \n",
       "6  0.520833  0.5            0.04   0.052632    0.478880          0.447336   \n",
       "7  0.479167  0.5            0.04   0.052632    0.532344          0.429462   \n",
       "8  0.479167  0.0            0.04   0.052632    0.645667          0.429266   \n",
       "\n",
       "   age_at_accident_date  type_of_injury  body_part_group  \\\n",
       "4              0.589935        0.666667         0.666667   \n",
       "5              0.746223        0.333333         0.166667   \n",
       "6              0.506133        0.000000         0.500000   \n",
       "7              0.567563        0.333333         0.166667   \n",
       "8              0.626362        1.000000         0.500000   \n",
       "\n",
       "   case_of_injury_group  nature_of_injury  \n",
       "4                     2          0.666667  \n",
       "5                     2          0.666667  \n",
       "6                     7          0.666667  \n",
       "7                     7          0.666667  \n",
       "8                     2          0.666667  "
      ]
     },
     "execution_count": 12,
     "metadata": {},
     "output_type": "execute_result"
    }
   ],
   "source": [
    "df2.head()"
   ]
  },
  {
   "cell_type": "code",
   "execution_count": 13,
   "metadata": {},
   "outputs": [
    {
     "data": {
      "text/html": [
       "<div>\n",
       "<style scoped>\n",
       "    .dataframe tbody tr th:only-of-type {\n",
       "        vertical-align: middle;\n",
       "    }\n",
       "\n",
       "    .dataframe tbody tr th {\n",
       "        vertical-align: top;\n",
       "    }\n",
       "\n",
       "    .dataframe thead th {\n",
       "        text-align: right;\n",
       "    }\n",
       "</style>\n",
       "<table border=\"1\" class=\"dataframe\">\n",
       "  <thead>\n",
       "    <tr style=\"text-align: right;\">\n",
       "      <th></th>\n",
       "      <th>market</th>\n",
       "      <th>sex</th>\n",
       "      <th>accident_state</th>\n",
       "      <th>classcode</th>\n",
       "      <th>occupation</th>\n",
       "      <th>experience_years</th>\n",
       "      <th>age_at_accident_date</th>\n",
       "      <th>type_of_injury</th>\n",
       "      <th>body_part_group</th>\n",
       "      <th>case_of_injury_group</th>\n",
       "      <th>nature_of_injury</th>\n",
       "    </tr>\n",
       "  </thead>\n",
       "  <tbody>\n",
       "    <tr>\n",
       "      <th>market</th>\n",
       "      <td>1.000000</td>\n",
       "      <td>-0.129918</td>\n",
       "      <td>0.111639</td>\n",
       "      <td>0.318044</td>\n",
       "      <td>-0.029106</td>\n",
       "      <td>-0.017217</td>\n",
       "      <td>-0.062534</td>\n",
       "      <td>-0.017312</td>\n",
       "      <td>-0.011459</td>\n",
       "      <td>-0.008803</td>\n",
       "      <td>-0.016079</td>\n",
       "    </tr>\n",
       "    <tr>\n",
       "      <th>sex</th>\n",
       "      <td>-0.129918</td>\n",
       "      <td>1.000000</td>\n",
       "      <td>0.021025</td>\n",
       "      <td>-0.104659</td>\n",
       "      <td>0.088748</td>\n",
       "      <td>0.081005</td>\n",
       "      <td>0.063710</td>\n",
       "      <td>0.041884</td>\n",
       "      <td>0.001785</td>\n",
       "      <td>0.010431</td>\n",
       "      <td>0.026611</td>\n",
       "    </tr>\n",
       "    <tr>\n",
       "      <th>accident_state</th>\n",
       "      <td>0.111639</td>\n",
       "      <td>0.021025</td>\n",
       "      <td>1.000000</td>\n",
       "      <td>0.057452</td>\n",
       "      <td>0.024411</td>\n",
       "      <td>-0.006977</td>\n",
       "      <td>-0.017219</td>\n",
       "      <td>0.003423</td>\n",
       "      <td>0.009392</td>\n",
       "      <td>-0.005890</td>\n",
       "      <td>0.010095</td>\n",
       "    </tr>\n",
       "    <tr>\n",
       "      <th>classcode</th>\n",
       "      <td>0.318044</td>\n",
       "      <td>-0.104659</td>\n",
       "      <td>0.057452</td>\n",
       "      <td>1.000000</td>\n",
       "      <td>-0.014604</td>\n",
       "      <td>-0.011932</td>\n",
       "      <td>-0.045570</td>\n",
       "      <td>-0.017485</td>\n",
       "      <td>-0.046937</td>\n",
       "      <td>0.039001</td>\n",
       "      <td>-0.008273</td>\n",
       "    </tr>\n",
       "    <tr>\n",
       "      <th>occupation</th>\n",
       "      <td>-0.029106</td>\n",
       "      <td>0.088748</td>\n",
       "      <td>0.024411</td>\n",
       "      <td>-0.014604</td>\n",
       "      <td>1.000000</td>\n",
       "      <td>0.024148</td>\n",
       "      <td>0.023144</td>\n",
       "      <td>-0.002877</td>\n",
       "      <td>0.009307</td>\n",
       "      <td>-0.003164</td>\n",
       "      <td>0.014532</td>\n",
       "    </tr>\n",
       "    <tr>\n",
       "      <th>experience_years</th>\n",
       "      <td>-0.017217</td>\n",
       "      <td>0.081005</td>\n",
       "      <td>-0.006977</td>\n",
       "      <td>-0.011932</td>\n",
       "      <td>0.024148</td>\n",
       "      <td>1.000000</td>\n",
       "      <td>0.392090</td>\n",
       "      <td>0.020873</td>\n",
       "      <td>0.014454</td>\n",
       "      <td>-0.000875</td>\n",
       "      <td>0.027485</td>\n",
       "    </tr>\n",
       "    <tr>\n",
       "      <th>age_at_accident_date</th>\n",
       "      <td>-0.062534</td>\n",
       "      <td>0.063710</td>\n",
       "      <td>-0.017219</td>\n",
       "      <td>-0.045570</td>\n",
       "      <td>0.023144</td>\n",
       "      <td>0.392090</td>\n",
       "      <td>1.000000</td>\n",
       "      <td>0.120935</td>\n",
       "      <td>0.025640</td>\n",
       "      <td>-0.008402</td>\n",
       "      <td>0.045817</td>\n",
       "    </tr>\n",
       "    <tr>\n",
       "      <th>type_of_injury</th>\n",
       "      <td>-0.017312</td>\n",
       "      <td>0.041884</td>\n",
       "      <td>0.003423</td>\n",
       "      <td>-0.017485</td>\n",
       "      <td>-0.002877</td>\n",
       "      <td>0.020873</td>\n",
       "      <td>0.120935</td>\n",
       "      <td>1.000000</td>\n",
       "      <td>0.043909</td>\n",
       "      <td>0.007068</td>\n",
       "      <td>0.068703</td>\n",
       "    </tr>\n",
       "    <tr>\n",
       "      <th>body_part_group</th>\n",
       "      <td>-0.011459</td>\n",
       "      <td>0.001785</td>\n",
       "      <td>0.009392</td>\n",
       "      <td>-0.046937</td>\n",
       "      <td>0.009307</td>\n",
       "      <td>0.014454</td>\n",
       "      <td>0.025640</td>\n",
       "      <td>0.043909</td>\n",
       "      <td>1.000000</td>\n",
       "      <td>-0.125029</td>\n",
       "      <td>0.217701</td>\n",
       "    </tr>\n",
       "    <tr>\n",
       "      <th>case_of_injury_group</th>\n",
       "      <td>-0.008803</td>\n",
       "      <td>0.010431</td>\n",
       "      <td>-0.005890</td>\n",
       "      <td>0.039001</td>\n",
       "      <td>-0.003164</td>\n",
       "      <td>-0.000875</td>\n",
       "      <td>-0.008402</td>\n",
       "      <td>0.007068</td>\n",
       "      <td>-0.125029</td>\n",
       "      <td>1.000000</td>\n",
       "      <td>0.027581</td>\n",
       "    </tr>\n",
       "    <tr>\n",
       "      <th>nature_of_injury</th>\n",
       "      <td>-0.016079</td>\n",
       "      <td>0.026611</td>\n",
       "      <td>0.010095</td>\n",
       "      <td>-0.008273</td>\n",
       "      <td>0.014532</td>\n",
       "      <td>0.027485</td>\n",
       "      <td>0.045817</td>\n",
       "      <td>0.068703</td>\n",
       "      <td>0.217701</td>\n",
       "      <td>0.027581</td>\n",
       "      <td>1.000000</td>\n",
       "    </tr>\n",
       "  </tbody>\n",
       "</table>\n",
       "</div>"
      ],
      "text/plain": [
       "                        market       sex  accident_state  classcode  \\\n",
       "market                1.000000 -0.129918        0.111639   0.318044   \n",
       "sex                  -0.129918  1.000000        0.021025  -0.104659   \n",
       "accident_state        0.111639  0.021025        1.000000   0.057452   \n",
       "classcode             0.318044 -0.104659        0.057452   1.000000   \n",
       "occupation           -0.029106  0.088748        0.024411  -0.014604   \n",
       "experience_years     -0.017217  0.081005       -0.006977  -0.011932   \n",
       "age_at_accident_date -0.062534  0.063710       -0.017219  -0.045570   \n",
       "type_of_injury       -0.017312  0.041884        0.003423  -0.017485   \n",
       "body_part_group      -0.011459  0.001785        0.009392  -0.046937   \n",
       "case_of_injury_group -0.008803  0.010431       -0.005890   0.039001   \n",
       "nature_of_injury     -0.016079  0.026611        0.010095  -0.008273   \n",
       "\n",
       "                      occupation  experience_years  age_at_accident_date  \\\n",
       "market                 -0.029106         -0.017217             -0.062534   \n",
       "sex                     0.088748          0.081005              0.063710   \n",
       "accident_state          0.024411         -0.006977             -0.017219   \n",
       "classcode              -0.014604         -0.011932             -0.045570   \n",
       "occupation              1.000000          0.024148              0.023144   \n",
       "experience_years        0.024148          1.000000              0.392090   \n",
       "age_at_accident_date    0.023144          0.392090              1.000000   \n",
       "type_of_injury         -0.002877          0.020873              0.120935   \n",
       "body_part_group         0.009307          0.014454              0.025640   \n",
       "case_of_injury_group   -0.003164         -0.000875             -0.008402   \n",
       "nature_of_injury        0.014532          0.027485              0.045817   \n",
       "\n",
       "                      type_of_injury  body_part_group  case_of_injury_group  \\\n",
       "market                     -0.017312        -0.011459             -0.008803   \n",
       "sex                         0.041884         0.001785              0.010431   \n",
       "accident_state              0.003423         0.009392             -0.005890   \n",
       "classcode                  -0.017485        -0.046937              0.039001   \n",
       "occupation                 -0.002877         0.009307             -0.003164   \n",
       "experience_years            0.020873         0.014454             -0.000875   \n",
       "age_at_accident_date        0.120935         0.025640             -0.008402   \n",
       "type_of_injury              1.000000         0.043909              0.007068   \n",
       "body_part_group             0.043909         1.000000             -0.125029   \n",
       "case_of_injury_group        0.007068        -0.125029              1.000000   \n",
       "nature_of_injury            0.068703         0.217701              0.027581   \n",
       "\n",
       "                      nature_of_injury  \n",
       "market                       -0.016079  \n",
       "sex                           0.026611  \n",
       "accident_state                0.010095  \n",
       "classcode                    -0.008273  \n",
       "occupation                    0.014532  \n",
       "experience_years              0.027485  \n",
       "age_at_accident_date          0.045817  \n",
       "type_of_injury                0.068703  \n",
       "body_part_group               0.217701  \n",
       "case_of_injury_group          0.027581  \n",
       "nature_of_injury              1.000000  "
      ]
     },
     "execution_count": 13,
     "metadata": {},
     "output_type": "execute_result"
    }
   ],
   "source": [
    "# Feature Correlation\n",
    "df2.corr(method ='pearson')"
   ]
  },
  {
   "cell_type": "code",
   "execution_count": null,
   "metadata": {},
   "outputs": [],
   "source": []
  },
  {
   "cell_type": "code",
   "execution_count": 14,
   "metadata": {},
   "outputs": [],
   "source": [
    "features = df2.drop('case_of_injury_group', 1)\n",
    "labels = df2[['case_of_injury_group']]\n"
   ]
  },
  {
   "cell_type": "code",
   "execution_count": null,
   "metadata": {},
   "outputs": [],
   "source": []
  },
  {
   "cell_type": "code",
   "execution_count": 29,
   "metadata": {},
   "outputs": [
    {
     "name": "stdout",
     "output_type": "stream",
     "text": [
      "Number of train and test data:\n",
      "31187 7797\n"
     ]
    }
   ],
   "source": [
    "# Splitting data into train and test\n",
    "from sklearn.model_selection import train_test_split\n",
    "X_train, X_test, Y_train, Y_test = train_test_split(features, labels, test_size=0.2, random_state=42)\n",
    "number_of_train = X_train.shape[0]\n",
    "number_of_test = X_test.shape[0]\n",
    "print('Number of train and test data:')\n",
    "print(number_of_train, number_of_test)"
   ]
  },
  {
   "cell_type": "code",
   "execution_count": 30,
   "metadata": {},
   "outputs": [
    {
     "name": "stdout",
     "output_type": "stream",
     "text": [
      "(38549, 10) (38549,)\n"
     ]
    },
    {
     "name": "stderr",
     "output_type": "stream",
     "text": [
      "C:\\Users\\SUJITH KUMAR\\Anaconda3\\lib\\site-packages\\sklearn\\utils\\validation.py:761: DataConversionWarning: A column-vector y was passed when a 1d array was expected. Please change the shape of y to (n_samples, ), for example using ravel().\n",
      "  y = column_or_1d(y, warn=True)\n"
     ]
    }
   ],
   "source": [
    "from imblearn.over_sampling import SMOTE\n",
    "sm = SMOTE('minority')\n",
    "x_train_res, y_train_res = sm.fit_sample(X_train, Y_train)\n",
    "print(x_train_res.shape, y_train_res.shape)"
   ]
  },
  {
   "cell_type": "code",
   "execution_count": 31,
   "metadata": {},
   "outputs": [
    {
     "data": {
      "text/plain": [
       "array([[0., 0., 1., 0., 0., 0., 0., 0., 0.],\n",
       "       [0., 0., 0., 0., 1., 0., 0., 0., 0.],\n",
       "       [0., 0., 1., 0., 0., 0., 0., 0., 0.],\n",
       "       [0., 0., 0., 1., 0., 0., 0., 0., 0.],\n",
       "       [0., 0., 0., 0., 0., 1., 0., 0., 0.]], dtype=float32)"
      ]
     },
     "execution_count": 31,
     "metadata": {},
     "output_type": "execute_result"
    }
   ],
   "source": [
    "from keras.utils import to_categorical\n",
    "#one-hot encode target column\n",
    "train_y_2 = to_categorical(Y_train)\n",
    "test_y_2 = to_categorical(Y_test)\n",
    "\n",
    "#vcheck that target column has been converted\n",
    "train_y_2[0:5]"
   ]
  },
  {
   "cell_type": "code",
   "execution_count": 32,
   "metadata": {},
   "outputs": [],
   "source": [
    "from keras.models import Sequential\n",
    "from keras.layers import Dense, Dropout, Activation\n",
    "from keras.optimizers import SGD\n",
    "from keras.utils.vis_utils import plot_model\n",
    "\n",
    "#create model\n",
    "model = Sequential()\n",
    "\n",
    "#get number of columns in training data\n",
    "n_cols = X_train.shape[1]\n",
    "\n",
    "#add layers to model\n",
    "model.add(Dense(200, activation='relu', input_shape=(n_cols,)))\n",
    "model.add(Dense(200, activation='relu'))\n",
    "model.add(Dense(200, activation='relu'))\n",
    "model.add(Dense(200, activation='relu'))\n",
    "model.add(Dense(200, activation='relu'))\n",
    "model.add(Dense(200, activation='relu'))\n",
    "\n",
    "model.add(Dense(9, activation='softmax'))\n"
   ]
  },
  {
   "cell_type": "code",
   "execution_count": 33,
   "metadata": {},
   "outputs": [],
   "source": [
    "#compile model using accuracy to measure model performance\n",
    "model.compile(optimizer='adam', loss='categorical_crossentropy', metrics=['accuracy'])"
   ]
  },
  {
   "cell_type": "code",
   "execution_count": 34,
   "metadata": {},
   "outputs": [
    {
     "name": "stdout",
     "output_type": "stream",
     "text": [
      "Train on 24949 samples, validate on 6238 samples\n",
      "Epoch 1/20\n",
      "24949/24949 [==============================] - 5s 199us/step - loss: 1.5040 - acc: 0.4538 - val_loss: 1.3430 - val_acc: 0.5348\n",
      "Epoch 2/20\n",
      "24949/24949 [==============================] - 4s 162us/step - loss: 1.3448 - acc: 0.5201 - val_loss: 1.2940 - val_acc: 0.5343\n",
      "Epoch 3/20\n",
      "24949/24949 [==============================] - 4s 165us/step - loss: 1.2877 - acc: 0.5366 - val_loss: 1.2518 - val_acc: 0.5486\n",
      "Epoch 4/20\n",
      "24949/24949 [==============================] - 4s 171us/step - loss: 1.2620 - acc: 0.5453 - val_loss: 1.2681 - val_acc: 0.5598\n",
      "Epoch 5/20\n",
      "24949/24949 [==============================] - 4s 168us/step - loss: 1.2416 - acc: 0.5486 - val_loss: 1.2103 - val_acc: 0.5632\n",
      "Epoch 6/20\n",
      "24949/24949 [==============================] - 4s 166us/step - loss: 1.2360 - acc: 0.5544 - val_loss: 1.1896 - val_acc: 0.5773\n",
      "Epoch 7/20\n",
      "24949/24949 [==============================] - 4s 172us/step - loss: 1.2160 - acc: 0.5606 - val_loss: 1.2182 - val_acc: 0.5625\n",
      "Epoch 8/20\n",
      "24949/24949 [==============================] - 4s 166us/step - loss: 1.2131 - acc: 0.5587 - val_loss: 1.2280 - val_acc: 0.5574\n",
      "Epoch 9/20\n",
      "24949/24949 [==============================] - 4s 168us/step - loss: 1.2047 - acc: 0.5678 - val_loss: 1.1796 - val_acc: 0.5720\n",
      "Epoch 10/20\n",
      "24949/24949 [==============================] - 4s 167us/step - loss: 1.2027 - acc: 0.5625 - val_loss: 1.1825 - val_acc: 0.5709\n",
      "Epoch 11/20\n",
      "24949/24949 [==============================] - 4s 167us/step - loss: 1.1904 - acc: 0.5670 - val_loss: 1.1868 - val_acc: 0.5766\n",
      "Epoch 12/20\n",
      "24949/24949 [==============================] - 4s 165us/step - loss: 1.1882 - acc: 0.5683 - val_loss: 1.1983 - val_acc: 0.5672\n",
      "Epoch 13/20\n",
      "24949/24949 [==============================] - 4s 177us/step - loss: 1.1824 - acc: 0.5678 - val_loss: 1.1628 - val_acc: 0.5818\n",
      "Epoch 14/20\n",
      "24949/24949 [==============================] - 4s 166us/step - loss: 1.1782 - acc: 0.5695 - val_loss: 1.1717 - val_acc: 0.5712\n",
      "Epoch 15/20\n",
      "24949/24949 [==============================] - 4s 163us/step - loss: 1.1744 - acc: 0.5706 - val_loss: 1.1950 - val_acc: 0.5789\n",
      "Epoch 16/20\n",
      "24949/24949 [==============================] - 4s 163us/step - loss: 1.1761 - acc: 0.5696 - val_loss: 1.1560 - val_acc: 0.5786\n",
      "Epoch 17/20\n",
      "24949/24949 [==============================] - 4s 164us/step - loss: 1.1693 - acc: 0.5734 - val_loss: 1.1722 - val_acc: 0.5680\n",
      "Epoch 18/20\n",
      "24949/24949 [==============================] - 4s 163us/step - loss: 1.1676 - acc: 0.5745 - val_loss: 1.1730 - val_acc: 0.5760\n",
      "Epoch 19/20\n",
      "24949/24949 [==============================] - 4s 164us/step - loss: 1.1619 - acc: 0.5774 - val_loss: 1.1530 - val_acc: 0.5742\n",
      "Epoch 20/20\n",
      "24949/24949 [==============================] - 4s 165us/step - loss: 1.1669 - acc: 0.5714 - val_loss: 1.1819 - val_acc: 0.5728\n"
     ]
    },
    {
     "data": {
      "text/plain": [
       "<keras.callbacks.History at 0x16094408cc0>"
      ]
     },
     "execution_count": 34,
     "metadata": {},
     "output_type": "execute_result"
    }
   ],
   "source": [
    "from keras.callbacks import EarlyStopping \n",
    "early_stopping_monitor = EarlyStopping(patience=10)\n",
    "\n",
    "#train model\n",
    "model.fit(X_train, train_y_2, epochs=20, validation_split=0.2, callbacks=[early_stopping_monitor])"
   ]
  },
  {
   "cell_type": "code",
   "execution_count": 35,
   "metadata": {},
   "outputs": [
    {
     "name": "stdout",
     "output_type": "stream",
     "text": [
      "_________________________________________________________________\n",
      "Layer (type)                 Output Shape              Param #   \n",
      "=================================================================\n",
      "dense_8 (Dense)              (None, 200)               2200      \n",
      "_________________________________________________________________\n",
      "dense_9 (Dense)              (None, 200)               40200     \n",
      "_________________________________________________________________\n",
      "dense_10 (Dense)             (None, 200)               40200     \n",
      "_________________________________________________________________\n",
      "dense_11 (Dense)             (None, 200)               40200     \n",
      "_________________________________________________________________\n",
      "dense_12 (Dense)             (None, 200)               40200     \n",
      "_________________________________________________________________\n",
      "dense_13 (Dense)             (None, 200)               40200     \n",
      "_________________________________________________________________\n",
      "dense_14 (Dense)             (None, 9)                 1809      \n",
      "=================================================================\n",
      "Total params: 205,009\n",
      "Trainable params: 205,009\n",
      "Non-trainable params: 0\n",
      "_________________________________________________________________\n"
     ]
    }
   ],
   "source": [
    "model.summary()"
   ]
  },
  {
   "cell_type": "code",
   "execution_count": 36,
   "metadata": {},
   "outputs": [],
   "source": [
    "y_score = model.predict(X_test)"
   ]
  },
  {
   "cell_type": "code",
   "execution_count": 37,
   "metadata": {},
   "outputs": [
    {
     "name": "stdout",
     "output_type": "stream",
     "text": [
      "[[   0   70   95    2   22   18    0   84    1]\n",
      " [   0  665   20    0   25    9    0  109    0]\n",
      " [   0   66  885    2  121  406    0  267   15]\n",
      " [   0    1    5  247   46    1    0    8    0]\n",
      " [   0   26   85   11  586   48    0   64    2]\n",
      " [   0   22  381    1   63 1626    0   28   20]\n",
      " [   0   16   62    0   19   20    0  150    0]\n",
      " [   0  117  308    0  128   94    0  489    3]\n",
      " [   0    6   61    0   66   60    0   41    4]]\n"
     ]
    }
   ],
   "source": [
    "from sklearn.metrics import confusion_matrix\n",
    "cnf_matrix = confusion_matrix(test_y_2.argmax(axis=1), y_score.argmax(axis=1))\n",
    "print(cnf_matrix)"
   ]
  },
  {
   "cell_type": "code",
   "execution_count": 41,
   "metadata": {},
   "outputs": [],
   "source": [
    "import numpy as np\n",
    "from scipy import interp\n",
    "import matplotlib.pyplot as plt\n",
    "from itertools import cycle\n",
    "from sklearn.metrics import roc_curve, auc"
   ]
  },
  {
   "cell_type": "code",
   "execution_count": 40,
   "metadata": {},
   "outputs": [
    {
     "name": "stdout",
     "output_type": "stream",
     "text": [
      "Normalized confusion matrix\n"
     ]
    },
    {
     "data": {
      "image/png": "[encoded data removed]",
      "text/plain": [
       "<Figure size 1008x864 with 2 Axes>"
      ]
     },
     "metadata": {
      "needs_background": "light"
     },
     "output_type": "display_data"
    }
   ],
   "source": [
    "import matplotlib.pyplot as plt\n",
    "def plot_confusion_matrix(cm, classes,\n",
    "                          normalize=False,\n",
    "                          title='Confusion matrix',\n",
    "                          cmap=plt.cm.Blues):\n",
    "    \"\"\"\n",
    "    This function prints and plots the confusion matrix.\n",
    "    Normalization can be applied by setting `normalize=True`.\n",
    "    \"\"\"\n",
    "    import itertools  \n",
    "    import matplotlib.pyplot as plt\n",
    "    if normalize:\n",
    "        cm = cm.astype('float') / cm.sum(axis=1)[:, np.newaxis]\n",
    "        print(\"Normalized confusion matrix\")\n",
    "    else:\n",
    "        print('Confusion matrix, without normalization')\n",
    "\n",
    "    # print(cm)\n",
    "\n",
    "    plt.imshow(cm, interpolation='nearest', cmap=cmap)\n",
    "    plt.title(title)\n",
    "    plt.colorbar()\n",
    "    tick_marks = np.arange(len(classes))\n",
    "    plt.xticks(tick_marks, classes, rotation=90)\n",
    "    plt.yticks(tick_marks, classes)\n",
    "\n",
    "    fmt = '.2f' if normalize else 'd'\n",
    "    thresh = cm.max() / 2.\n",
    "    for i, j in itertools.product(range(cm.shape[0]), range(cm.shape[1])):\n",
    "        plt.text(j, i, format(cm[i, j], fmt),\n",
    "                 horizontalalignment=\"center\",\n",
    "                 color=\"white\" if cm[i, j] > thresh else \"black\")\n",
    "\n",
    "    plt.tight_layout()\n",
    "    plt.ylabel('True label')\n",
    "    plt.xlabel('Predicted label')\n",
    "\n",
    "\n",
    "#y_pred = model.predict(x_test);\n",
    "#cnf_matrix = confusion_matrix(np.argmax(y_test, axis=1), np.argmax(y_pred, axis=1))\n",
    "\n",
    "# Plot normalized confusion matrix\n",
    "fig = plt.figure()\n",
    "fig.set_size_inches(14, 12, forward=True)\n",
    "#fig.align_labels()\n",
    "\n",
    "# fig.subplots_adjust(left=0.0, right=1.0, bottom=0.0, top=1.0)\n",
    "plot_confusion_matrix(cnf_matrix, classes=np.asarray(text_label), normalize=True,\n",
    "                      title='Normalized confusion matrix')\n",
    "\n",
    "#fig.savefig(\"txt_classification-smote\" + str(num_epochs) + \".png\", pad_inches=5.0)\n"
   ]
  },
  {
   "cell_type": "code",
   "execution_count": 39,
   "metadata": {},
   "outputs": [
    {
     "data": {
      "image/png": "[encoded data removed]",
      "text/plain": [
       "<Figure size 432x288 with 1 Axes>"
      ]
     },
     "metadata": {
      "needs_background": "light"
     },
     "output_type": "display_data"
    },
    {
     "data": {
      "image/png": "[encoded data removed]",
      "text/plain": [
       "<Figure size 432x288 with 1 Axes>"
      ]
     },
     "metadata": {
      "needs_background": "light"
     },
     "output_type": "display_data"
    }
   ],
   "source": [
    "import numpy as np\n",
    "from scipy import interp\n",
    "import matplotlib.pyplot as plt\n",
    "from itertools import cycle\n",
    "from sklearn.metrics import roc_curve, auc\n",
    "\n",
    "# Plot linewidth.\n",
    "lw = 2\n",
    "n_classes = 9\n",
    "\n",
    "# Compute ROC curve and ROC area for each class\n",
    "fpr = dict()\n",
    "tpr = dict()\n",
    "roc_auc = dict()\n",
    "for i in range(n_classes):\n",
    "    fpr[i], tpr[i], _ = roc_curve(test_y_2[:, i], y_score[:, i])\n",
    "    roc_auc[i] = auc(fpr[i], tpr[i])\n",
    "\n",
    "# Compute micro-average ROC curve and ROC area\n",
    "fpr[\"micro\"], tpr[\"micro\"], _ = roc_curve(test_y_2.ravel(), y_score.ravel())\n",
    "roc_auc[\"micro\"] = auc(fpr[\"micro\"], tpr[\"micro\"])\n",
    "\n",
    "# Compute macro-average ROC curve and ROC area\n",
    "\n",
    "# First aggregate all false positive rates\n",
    "all_fpr = np.unique(np.concatenate([fpr[i] for i in range(n_classes)]))\n",
    "\n",
    "# Then interpolate all ROC curves at this points\n",
    "mean_tpr = np.zeros_like(all_fpr)\n",
    "for i in range(n_classes):\n",
    "    mean_tpr += interp(all_fpr, fpr[i], tpr[i])\n",
    "\n",
    "# Finally average it and compute AUC\n",
    "mean_tpr /= n_classes\n",
    "\n",
    "fpr[\"macro\"] = all_fpr\n",
    "tpr[\"macro\"] = mean_tpr\n",
    "roc_auc[\"macro\"] = auc(fpr[\"macro\"], tpr[\"macro\"])\n",
    "\n",
    "# Plot all ROC curves\n",
    "plt.figure(1)\n",
    "plt.plot(fpr[\"micro\"], tpr[\"micro\"],\n",
    "         label='micro-average ROC curve (area = {0:0.2f})'\n",
    "               ''.format(roc_auc[\"micro\"]),\n",
    "         color='deeppink', linestyle=':', linewidth=4)\n",
    "\n",
    "plt.plot(fpr[\"macro\"], tpr[\"macro\"],\n",
    "         label='macro-average ROC curve (area = {0:0.2f})'\n",
    "               ''.format(roc_auc[\"macro\"]),\n",
    "         color='navy', linestyle=':', linewidth=4)\n",
    "\n",
    "colors = cycle(['aqua', 'darkorange', 'cornflowerblue'])\n",
    "for i, color in zip(range(n_classes), colors):\n",
    "    plt.plot(fpr[i], tpr[i], color=color, lw=lw,\n",
    "             label='ROC curve of class {0} (area = {1:0.2f})'\n",
    "             ''.format(i, roc_auc[i]))\n",
    "\n",
    "plt.plot([0, 1], [0, 1], 'k--', lw=lw)\n",
    "plt.xlim([0.0, 1.0])\n",
    "plt.ylim([0.0, 1.05])\n",
    "plt.xlabel('False Positive Rate')\n",
    "plt.ylabel('True Positive Rate')\n",
    "plt.title('Some extension of Receiver operating characteristic to multi-class')\n",
    "plt.legend(loc=\"lower right\")\n",
    "plt.show()\n",
    "\n",
    "\n",
    "# Zoom in view of the upper left corner.\n",
    "plt.figure(2)\n",
    "plt.xlim(0, 0.2)\n",
    "plt.ylim(0.8, 1)\n",
    "plt.plot(fpr[\"micro\"], tpr[\"micro\"],\n",
    "         label='micro-average ROC curve (area = {0:0.2f})'\n",
    "               ''.format(roc_auc[\"micro\"]),\n",
    "         color='deeppink', linestyle=':', linewidth=4)\n",
    "\n",
    "plt.plot(fpr[\"macro\"], tpr[\"macro\"],\n",
    "         label='macro-average ROC curve (area = {0:0.2f})'\n",
    "               ''.format(roc_auc[\"macro\"]),\n",
    "         color='navy', linestyle=':', linewidth=4)\n",
    "\n",
    "colors = cycle(['aqua', 'darkorange', 'cornflowerblue'])\n",
    "for i, color in zip(range(n_classes), colors):\n",
    "    plt.plot(fpr[i], tpr[i], color=color, lw=lw,\n",
    "             label='ROC curve of class {0} (area = {1:0.2f})'\n",
    "             ''.format(i, roc_auc[i]))\n",
    "\n",
    "plt.plot([0, 1], [0, 1], 'k--', lw=lw)\n",
    "plt.xlabel('False Positive Rate')\n",
    "plt.ylabel('True Positive Rate')\n",
    "plt.title('Some extension of Receiver operating characteristic to multi-class')\n",
    "plt.legend(loc=\"lower right\")\n",
    "plt.show()"
   ]
  },
  {
   "cell_type": "code",
   "execution_count": null,
   "metadata": {},
   "outputs": [],
   "source": []
  }
 ],
 "metadata": {
  "kernelspec": {
   "display_name": "Python 3",
   "language": "python",
   "name": "python3"
  },
  "language_info": {
   "codemirror_mode": {
    "name": "ipython",
    "version": 3
   },
   "file_extension": ".py",
   "mimetype": "text/x-python",
   "name": "python",
   "nbconvert_exporter": "python",
   "pygments_lexer": "ipython3",
   "version": "3.6.8"
  }
 },
 "nbformat": 4,
 "nbformat_minor": 2
}
