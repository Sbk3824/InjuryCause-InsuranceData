{
 "cells": [
  {
   "cell_type": "code",
   "execution_count": 46,
   "metadata": {},
   "outputs": [
    {
     "name": "stdout",
     "output_type": "stream",
     "text": [
      "Working Directory: C:\\Users\\SUJITH KUMAR\\Downloads\\Insurance-master\n"
     ]
    }
   ],
   "source": [
    "import os\n",
    "print('Working Directory: {}'.format(os.getcwd()))"
   ]
  },
  {
   "cell_type": "markdown",
   "metadata": {},
   "source": [
    "## Data Import "
   ]
  },
  {
   "cell_type": "code",
   "execution_count": 47,
   "metadata": {},
   "outputs": [
    {
     "name": "stdout",
     "output_type": "stream",
     "text": [
      "['Sheet1']\n"
     ]
    }
   ],
   "source": [
    "import pandas as pd\n",
    "import numpy as np\n",
    "\n",
    "data = pd.ExcelFile('Data-All.xlsx')\n",
    "print(data.sheet_names)\n",
    "df1 = data.parse('Sheet1')\n",
    "#df1.info()"
   ]
  },
  {
   "cell_type": "code",
   "execution_count": 48,
   "metadata": {},
   "outputs": [
    {
     "name": "stdout",
     "output_type": "stream",
     "text": [
      "Shape of Data: (39782, 34)\n",
      "Dimentions of data: 2\n",
      "Data Index: RangeIndex(start=0, stop=39782, step=1)\n"
     ]
    }
   ],
   "source": [
    "print('Shape of Data: {}'.format(df1.shape))\n",
    "print('Dimentions of data:',df1.ndim)\n",
    "print('Data Index:',df1.index)"
   ]
  },
  {
   "cell_type": "code",
   "execution_count": 49,
   "metadata": {},
   "outputs": [],
   "source": [
    "# Replace the spaces in clumn names to underscore and convert column headers to lower case\n",
    "\n",
    "df1.columns = df1.columns.str.replace(' ','_')\n",
    "df1.columns = df1.columns.str.lower()"
   ]
  },
  {
   "cell_type": "code",
   "execution_count": 50,
   "metadata": {},
   "outputs": [
    {
     "data": {
      "text/html": [
       "<div>\n",
       "<style scoped>\n",
       "    .dataframe tbody tr th:only-of-type {\n",
       "        vertical-align: middle;\n",
       "    }\n",
       "\n",
       "    .dataframe tbody tr th {\n",
       "        vertical-align: top;\n",
       "    }\n",
       "\n",
       "    .dataframe thead th {\n",
       "        text-align: right;\n",
       "    }\n",
       "</style>\n",
       "<table border=\"1\" class=\"dataframe\">\n",
       "  <thead>\n",
       "    <tr style=\"text-align: right;\">\n",
       "      <th></th>\n",
       "      <th>claim</th>\n",
       "      <th>effective_year</th>\n",
       "      <th>account</th>\n",
       "      <th>market</th>\n",
       "      <th>sex</th>\n",
       "      <th>jurisdiction_state</th>\n",
       "      <th>accident_state</th>\n",
       "      <th>classcode</th>\n",
       "      <th>class_desription</th>\n",
       "      <th>occupation</th>\n",
       "      <th>...</th>\n",
       "      <th>body_part_group</th>\n",
       "      <th>cause_of_injury</th>\n",
       "      <th>case_of_injury_group</th>\n",
       "      <th>nature_of_injury</th>\n",
       "      <th>nature_of_injury_group</th>\n",
       "      <th>total_incurred_amount</th>\n",
       "      <th>indemnity</th>\n",
       "      <th>medical</th>\n",
       "      <th>expenses</th>\n",
       "      <th>sum_(medical-indemnity-expenses)</th>\n",
       "    </tr>\n",
       "  </thead>\n",
       "  <tbody>\n",
       "    <tr>\n",
       "      <th>0</th>\n",
       "      <td>24209433</td>\n",
       "      <td>2015</td>\n",
       "      <td>832735</td>\n",
       "      <td>FRUIT &amp; VEG GROWER/SHIPPER/PACKER</td>\n",
       "      <td>NaN</td>\n",
       "      <td>CA</td>\n",
       "      <td>CA</td>\n",
       "      <td>40</td>\n",
       "      <td>NaN</td>\n",
       "      <td>FARM LABORER</td>\n",
       "      <td>...</td>\n",
       "      <td>NaN</td>\n",
       "      <td>NaN</td>\n",
       "      <td>NaN</td>\n",
       "      <td>NaN</td>\n",
       "      <td>NaN</td>\n",
       "      <td>0.00</td>\n",
       "      <td>174.92</td>\n",
       "      <td>101.84</td>\n",
       "      <td>28.09</td>\n",
       "      <td>304.85</td>\n",
       "    </tr>\n",
       "    <tr>\n",
       "      <th>1</th>\n",
       "      <td>24125802</td>\n",
       "      <td>2015</td>\n",
       "      <td>832735</td>\n",
       "      <td>FRUIT &amp; VEG GROWER/SHIPPER/PACKER</td>\n",
       "      <td>NaN</td>\n",
       "      <td>CA</td>\n",
       "      <td>CA</td>\n",
       "      <td>40</td>\n",
       "      <td>NaN</td>\n",
       "      <td>FARM LABORER</td>\n",
       "      <td>...</td>\n",
       "      <td>NaN</td>\n",
       "      <td>NaN</td>\n",
       "      <td>NaN</td>\n",
       "      <td>NaN</td>\n",
       "      <td>NaN</td>\n",
       "      <td>0.00</td>\n",
       "      <td>157.60</td>\n",
       "      <td>218.65</td>\n",
       "      <td>30.56</td>\n",
       "      <td>406.81</td>\n",
       "    </tr>\n",
       "    <tr>\n",
       "      <th>2</th>\n",
       "      <td>24274218</td>\n",
       "      <td>2015</td>\n",
       "      <td>832735</td>\n",
       "      <td>FRUIT &amp; VEG GROWER/SHIPPER/PACKER</td>\n",
       "      <td>NaN</td>\n",
       "      <td>CA</td>\n",
       "      <td>CA</td>\n",
       "      <td>40</td>\n",
       "      <td>NaN</td>\n",
       "      <td>FARM LABORER</td>\n",
       "      <td>...</td>\n",
       "      <td>NaN</td>\n",
       "      <td>NaN</td>\n",
       "      <td>NaN</td>\n",
       "      <td>NaN</td>\n",
       "      <td>NaN</td>\n",
       "      <td>0.00</td>\n",
       "      <td>296.83</td>\n",
       "      <td>242.48</td>\n",
       "      <td>30.56</td>\n",
       "      <td>569.87</td>\n",
       "    </tr>\n",
       "    <tr>\n",
       "      <th>3</th>\n",
       "      <td>2427360</td>\n",
       "      <td>2015</td>\n",
       "      <td>618523</td>\n",
       "      <td>OTHER</td>\n",
       "      <td>NaN</td>\n",
       "      <td>TX</td>\n",
       "      <td>TX</td>\n",
       "      <td>8810</td>\n",
       "      <td>CLERICAL OFFICE OR LIBRARIES</td>\n",
       "      <td>LABORER</td>\n",
       "      <td>...</td>\n",
       "      <td>NaN</td>\n",
       "      <td>NaN</td>\n",
       "      <td>NaN</td>\n",
       "      <td>NaN</td>\n",
       "      <td>NaN</td>\n",
       "      <td>NaN</td>\n",
       "      <td>NaN</td>\n",
       "      <td>NaN</td>\n",
       "      <td>NaN</td>\n",
       "      <td>NaN</td>\n",
       "    </tr>\n",
       "    <tr>\n",
       "      <th>4</th>\n",
       "      <td>843291</td>\n",
       "      <td>2009</td>\n",
       "      <td>748045</td>\n",
       "      <td>NURSERY/GREENHOUSE WHOLESALE</td>\n",
       "      <td>M</td>\n",
       "      <td>MN</td>\n",
       "      <td>MN</td>\n",
       "      <td>5</td>\n",
       "      <td>NURSERY EMPLOYEES</td>\n",
       "      <td>SHIPPING MGR</td>\n",
       "      <td>...</td>\n",
       "      <td>Neck</td>\n",
       "      <td>FROM DIFFERENT LEVEL (ELEVATIO</td>\n",
       "      <td>Fall, Slip, or Trip Injury</td>\n",
       "      <td>MULTIPLE PHYSICAL INJURIES ONL</td>\n",
       "      <td>Multiple Injuries</td>\n",
       "      <td>54579.79</td>\n",
       "      <td>12265.75</td>\n",
       "      <td>42314.04</td>\n",
       "      <td>0.00</td>\n",
       "      <td>54579.79</td>\n",
       "    </tr>\n",
       "  </tbody>\n",
       "</table>\n",
       "<p>5 rows × 34 columns</p>\n",
       "</div>"
      ],
      "text/plain": [
       "      claim  effective_year  account                             market  sex  \\\n",
       "0  24209433            2015   832735  FRUIT & VEG GROWER/SHIPPER/PACKER  NaN   \n",
       "1  24125802            2015   832735  FRUIT & VEG GROWER/SHIPPER/PACKER  NaN   \n",
       "2  24274218            2015   832735  FRUIT & VEG GROWER/SHIPPER/PACKER  NaN   \n",
       "3   2427360            2015   618523                              OTHER  NaN   \n",
       "4    843291            2009   748045       NURSERY/GREENHOUSE WHOLESALE    M   \n",
       "\n",
       "  jurisdiction_state accident_state classcode              class_desription  \\\n",
       "0                 CA             CA        40                           NaN   \n",
       "1                 CA             CA        40                           NaN   \n",
       "2                 CA             CA        40                           NaN   \n",
       "3                 TX             TX      8810  CLERICAL OFFICE OR LIBRARIES   \n",
       "4                 MN             MN         5             NURSERY EMPLOYEES   \n",
       "\n",
       "     occupation  ... body_part_group                 cause_of_injury  \\\n",
       "0  FARM LABORER  ...             NaN                             NaN   \n",
       "1  FARM LABORER  ...             NaN                             NaN   \n",
       "2  FARM LABORER  ...             NaN                             NaN   \n",
       "3       LABORER  ...             NaN                             NaN   \n",
       "4  SHIPPING MGR  ...            Neck  FROM DIFFERENT LEVEL (ELEVATIO   \n",
       "\n",
       "         case_of_injury_group                nature_of_injury  \\\n",
       "0                         NaN                             NaN   \n",
       "1                         NaN                             NaN   \n",
       "2                         NaN                             NaN   \n",
       "3                         NaN                             NaN   \n",
       "4  Fall, Slip, or Trip Injury  MULTIPLE PHYSICAL INJURIES ONL   \n",
       "\n",
       "   nature_of_injury_group total_incurred_amount indemnity   medical expenses  \\\n",
       "0                     NaN                  0.00    174.92    101.84    28.09   \n",
       "1                     NaN                  0.00    157.60    218.65    30.56   \n",
       "2                     NaN                  0.00    296.83    242.48    30.56   \n",
       "3                     NaN                   NaN       NaN       NaN      NaN   \n",
       "4       Multiple Injuries              54579.79  12265.75  42314.04     0.00   \n",
       "\n",
       "  sum_(medical-indemnity-expenses)  \n",
       "0                           304.85  \n",
       "1                           406.81  \n",
       "2                           569.87  \n",
       "3                              NaN  \n",
       "4                         54579.79  \n",
       "\n",
       "[5 rows x 34 columns]"
      ]
     },
     "execution_count": 50,
     "metadata": {},
     "output_type": "execute_result"
    }
   ],
   "source": [
    "df1.head()"
   ]
  },
  {
   "cell_type": "markdown",
   "metadata": {},
   "source": [
    "## Data Engineering"
   ]
  },
  {
   "cell_type": "code",
   "execution_count": 51,
   "metadata": {},
   "outputs": [],
   "source": [
    "df2 = df1"
   ]
  },
  {
   "cell_type": "code",
   "execution_count": 52,
   "metadata": {},
   "outputs": [
    {
     "data": {
      "text/plain": [
       "GRAIN ELEVATORS                                      7404\n",
       "RACE CAR OWNERS, RACING TEAMS                        4097\n",
       "REFINED FUEL (inc. Cstores)                          3198\n",
       "IMPLEMENT DEALER                                     2359\n",
       "AG SUPPLY/FARM STORES                                2191\n",
       "EGG LAYING AND PROCESSORS                            1990\n",
       "FEEDMILLS FOR LIVESTOCK AND PET FOODS                1836\n",
       "FOOD DISTRIBUTORS                                    1426\n",
       "FERTILIZER BLENDING & DISTRIBUTION                   1284\n",
       "OTHER                                                1131\n",
       "FRUIT & VEG GROWER/SHIPPER/PACKER                    1003\n",
       "NURSERY/GREENHOUSE WHOLESALE                          992\n",
       "MEAT PROCESSING (OTHER THAN POULTRY)                  851\n",
       "ETHANOL                                               776\n",
       "BOTTLERS/BEVERAGE DISTRIBUTORS                        618\n",
       "FRUIT & VEGETABLE PROCESSING                          612\n",
       "HOG CONFINEMENT                                       597\n",
       "CATTLE FEEDLOTS                                       593\n",
       "AG CHEMICAL DISTRIBUTION                              570\n",
       "GRAIN MILLING PLANTS (including flour)                497\n",
       "POULTRY HATCHERY/GROWER/PROCESSOR                     480\n",
       "SEED CONDITIONING (Cleaning/Conditioning/Bagging)     478\n",
       "LIVESTOCK AUCTION                                     471\n",
       "MUSHROOM FARMING                                      445\n",
       "DAIRY PROCESSING                                      421\n",
       "SNACK GOODS (Crackers, Potato Chips, etc)             414\n",
       "NURSERY/GREENHOUSE RETAIL                             396\n",
       "LPG                                                   310\n",
       "FROZEN SPECIALTY FOOD MANUFACTURING                   305\n",
       "NUTS & LEGUMES FOR HUMAN CONSUMPTION                  294\n",
       "MUSHROOM SERVICES                                     226\n",
       "BAKERIES, COMMERCIAL AND RETAIL                       216\n",
       "TRUCKING ONLY                                         209\n",
       "BIO-DIESEL                                            145\n",
       "EQUIPMENT MANUFACTURING                               130\n",
       "FISH GROWING/PROCESSING                               130\n",
       "COMMERCIAL FARM/FRUIT & VEG GROWER                    126\n",
       "MILK HAULING ONLY                                     114\n",
       "CANDY MANUFACTURERS & DISTRIBUTORS                    110\n",
       "OIL RECYCLING                                         102\n",
       "COTTON GIN/WAREHOUSE                                   79\n",
       "DAIRY FARMS                                            43\n",
       "OIL EXTRACTION - SOYBEAN/COTTONSEED                    42\n",
       "CUSTOM HARVESTING                                      33\n",
       "BROKERED SALES/COMMODITIES TRADING                     24\n",
       "PASTA MANUFACTURING                                     7\n",
       "TIRE DEALERS                                            4\n",
       "FARM LABOR CONTRACTORS                                  2\n",
       "CONSTRUCTION EQUIP DEALER                               1\n",
       "Name: market, dtype: int64"
      ]
     },
     "execution_count": 52,
     "metadata": {},
     "output_type": "execute_result"
    }
   ],
   "source": [
    "df2.market.value_counts()"
   ]
  },
  {
   "cell_type": "code",
   "execution_count": 53,
   "metadata": {},
   "outputs": [
    {
     "data": {
      "text/plain": [
       "count               39782\n",
       "unique                 49\n",
       "top       GRAIN ELEVATORS\n",
       "freq                 7404\n",
       "Name: market, dtype: object"
      ]
     },
     "execution_count": 53,
     "metadata": {},
     "output_type": "execute_result"
    }
   ],
   "source": [
    "df2.market.describe()"
   ]
  },
  {
   "cell_type": "code",
   "execution_count": 54,
   "metadata": {},
   "outputs": [],
   "source": [
    "df2 = df2[df2.market != 'RACE CAR OWNERS, RACING TEAMS']\n",
    "df2 = df2[df2.market != 'NURSERY/GREENHOUSE WHOLESALE']"
   ]
  },
  {
   "cell_type": "code",
   "execution_count": 55,
   "metadata": {},
   "outputs": [
    {
     "data": {
      "text/plain": [
       "count               34693\n",
       "unique                 47\n",
       "top       GRAIN ELEVATORS\n",
       "freq                 7404\n",
       "Name: market, dtype: object"
      ]
     },
     "execution_count": 55,
     "metadata": {},
     "output_type": "execute_result"
    }
   ],
   "source": [
    "df2.market.describe()"
   ]
  },
  {
   "cell_type": "code",
   "execution_count": 56,
   "metadata": {},
   "outputs": [
    {
     "data": {
      "text/plain": [
       "GRAIN ELEVATORS                                      7404\n",
       "REFINED FUEL (inc. Cstores)                          3198\n",
       "IMPLEMENT DEALER                                     2359\n",
       "AG SUPPLY/FARM STORES                                2191\n",
       "EGG LAYING AND PROCESSORS                            1990\n",
       "FEEDMILLS FOR LIVESTOCK AND PET FOODS                1836\n",
       "FOOD DISTRIBUTORS                                    1426\n",
       "FERTILIZER BLENDING & DISTRIBUTION                   1284\n",
       "OTHER                                                1131\n",
       "FRUIT & VEG GROWER/SHIPPER/PACKER                    1003\n",
       "MEAT PROCESSING (OTHER THAN POULTRY)                  851\n",
       "ETHANOL                                               776\n",
       "BOTTLERS/BEVERAGE DISTRIBUTORS                        618\n",
       "FRUIT & VEGETABLE PROCESSING                          612\n",
       "HOG CONFINEMENT                                       597\n",
       "CATTLE FEEDLOTS                                       593\n",
       "AG CHEMICAL DISTRIBUTION                              570\n",
       "GRAIN MILLING PLANTS (including flour)                497\n",
       "POULTRY HATCHERY/GROWER/PROCESSOR                     480\n",
       "SEED CONDITIONING (Cleaning/Conditioning/Bagging)     478\n",
       "LIVESTOCK AUCTION                                     471\n",
       "MUSHROOM FARMING                                      445\n",
       "DAIRY PROCESSING                                      421\n",
       "SNACK GOODS (Crackers, Potato Chips, etc)             414\n",
       "NURSERY/GREENHOUSE RETAIL                             396\n",
       "LPG                                                   310\n",
       "FROZEN SPECIALTY FOOD MANUFACTURING                   305\n",
       "NUTS & LEGUMES FOR HUMAN CONSUMPTION                  294\n",
       "MUSHROOM SERVICES                                     226\n",
       "BAKERIES, COMMERCIAL AND RETAIL                       216\n",
       "TRUCKING ONLY                                         209\n",
       "BIO-DIESEL                                            145\n",
       "EQUIPMENT MANUFACTURING                               130\n",
       "FISH GROWING/PROCESSING                               130\n",
       "COMMERCIAL FARM/FRUIT & VEG GROWER                    126\n",
       "MILK HAULING ONLY                                     114\n",
       "CANDY MANUFACTURERS & DISTRIBUTORS                    110\n",
       "OIL RECYCLING                                         102\n",
       "COTTON GIN/WAREHOUSE                                   79\n",
       "DAIRY FARMS                                            43\n",
       "OIL EXTRACTION - SOYBEAN/COTTONSEED                    42\n",
       "CUSTOM HARVESTING                                      33\n",
       "BROKERED SALES/COMMODITIES TRADING                     24\n",
       "PASTA MANUFACTURING                                     7\n",
       "TIRE DEALERS                                            4\n",
       "FARM LABOR CONTRACTORS                                  2\n",
       "CONSTRUCTION EQUIP DEALER                               1\n",
       "Name: market, dtype: int64"
      ]
     },
     "execution_count": 56,
     "metadata": {},
     "output_type": "execute_result"
    }
   ],
   "source": [
    "df2.market.value_counts()"
   ]
  },
  {
   "cell_type": "markdown",
   "metadata": {},
   "source": [
    "## Feature Selection"
   ]
  },
  {
   "cell_type": "code",
   "execution_count": 57,
   "metadata": {},
   "outputs": [
    {
     "data": {
      "text/plain": [
       "(34689, 34)"
      ]
     },
     "execution_count": 57,
     "metadata": {},
     "output_type": "execute_result"
    }
   ],
   "source": [
    "# Removal of top of four rows\n",
    "df3 = df2[4:]\n",
    "df3.shape"
   ]
  },
  {
   "cell_type": "code",
   "execution_count": 58,
   "metadata": {},
   "outputs": [
    {
     "name": "stdout",
     "output_type": "stream",
     "text": [
      "Removing features...\n",
      "Index(['claim', 'effective_year', 'account', 'jurisdiction_state',\n",
      "       'class_desription', 'date_of_birth', 'date_of_hire', 'accident_date',\n",
      "       'date_reported_to_employer', 'report_date', 'date_of_disability',\n",
      "       'date_returened_to_work', 'claim_description', 'claim_status',\n",
      "       'type_of_injury_code', 'body_part', 'cause_of_injury',\n",
      "       'nature_of_injury_group', 'total_incurred_amount', 'indemnity',\n",
      "       'medical', 'expenses', 'sum_(medical-indemnity-expenses)'],\n",
      "      dtype='object')\n"
     ]
    },
    {
     "name": "stderr",
     "output_type": "stream",
     "text": [
      "C:\\Users\\SUJITH KUMAR\\Anaconda3\\lib\\site-packages\\pandas\\core\\frame.py:3940: SettingWithCopyWarning: \n",
      "A value is trying to be set on a copy of a slice from a DataFrame\n",
      "\n",
      "See the caveats in the documentation: http://pandas.pydata.org/pandas-docs/stable/indexing.html#indexing-view-versus-copy\n",
      "  errors=errors)\n"
     ]
    }
   ],
   "source": [
    "# Features to be removed from the data\n",
    "print('Removing features...')\n",
    "print(df3.columns[[0, 1, 2, 5, 8, 10, 11, 12, 15, 16, 17, 18, 19, 20, 21, 23, 25, 28, 29, 30, 31, 32, 33]])\n",
    "df3.drop(df3.columns[[0, 1, 2, 5, 8, 10, 11, 12, 15, 16, 17, 18, 19, 20, 21, 23, 25, 28, 29, 30, 31, 32, 33]], axis=1, inplace=True)"
   ]
  },
  {
   "cell_type": "code",
   "execution_count": 59,
   "metadata": {},
   "outputs": [
    {
     "data": {
      "text/plain": [
       "(34689, 11)"
      ]
     },
     "execution_count": 59,
     "metadata": {},
     "output_type": "execute_result"
    }
   ],
   "source": [
    "df3.shape"
   ]
  },
  {
   "cell_type": "code",
   "execution_count": 60,
   "metadata": {},
   "outputs": [
    {
     "data": {
      "text/plain": [
       "Strain or Injury by                9444\n",
       "Fall, Slip, or Trip Injury         7823\n",
       "Struck or Injured by               4813\n",
       "Cut, Puncture, Scrape              3631\n",
       "Miscellaneous                      3391\n",
       "Caught In, Under, or Between       1342\n",
       "Heat or Cold Exposures             1286\n",
       "Vehicle                            1164\n",
       "Striking Against or Stepping On    1099\n",
       "Lifting or Handling                 648\n",
       "Rubbed or Abraded by                 48\n",
       "Name: case_of_injury_group, dtype: int64"
      ]
     },
     "execution_count": 60,
     "metadata": {},
     "output_type": "execute_result"
    }
   ],
   "source": [
    "df3.case_of_injury_group.value_counts()"
   ]
  },
  {
   "cell_type": "code",
   "execution_count": 61,
   "metadata": {},
   "outputs": [],
   "source": [
    "searchfor = ['Rubbed or Abraded by', 'Lifting or Handling','Striking Against or Stepping On', 'Vehicle']\n",
    "df3 = df3[~df3.case_of_injury_group.str.contains('|'.join(searchfor))]"
   ]
  },
  {
   "cell_type": "code",
   "execution_count": 62,
   "metadata": {},
   "outputs": [
    {
     "data": {
      "text/plain": [
       "Strain or Injury by             9444\n",
       "Fall, Slip, or Trip Injury      7823\n",
       "Struck or Injured by            4813\n",
       "Cut, Puncture, Scrape           3631\n",
       "Miscellaneous                   3391\n",
       "Caught In, Under, or Between    1342\n",
       "Heat or Cold Exposures          1286\n",
       "Name: case_of_injury_group, dtype: int64"
      ]
     },
     "execution_count": 62,
     "metadata": {},
     "output_type": "execute_result"
    }
   ],
   "source": [
    "df3['case_of_injury_group'].value_counts()"
   ]
  },
  {
   "cell_type": "code",
   "execution_count": 63,
   "metadata": {},
   "outputs": [
    {
     "data": {
      "text/plain": [
       "['Caught In, Under, or Between',\n",
       " 'Cut, Puncture, Scrape',\n",
       " 'Fall, Slip, or Trip Injury',\n",
       " 'Heat or Cold Exposures',\n",
       " 'Miscellaneous',\n",
       " 'Strain or Injury by',\n",
       " 'Struck or Injured by']"
      ]
     },
     "execution_count": 63,
     "metadata": {},
     "output_type": "execute_result"
    }
   ],
   "source": [
    "text_label = ['Caught In, Under, or Between', 'Cut, Puncture, Scrape', 'Fall, Slip, or Trip Injury', \n",
    "                    'Heat or Cold Exposures', 'Miscellaneous', 'Strain or Injury by', 'Struck or Injured by'\n",
    "        ]\n",
    "text_label"
   ]
  },
  {
   "cell_type": "code",
   "execution_count": 64,
   "metadata": {},
   "outputs": [
    {
     "data": {
      "text/plain": [
       "Strain or Injury by             9444\n",
       "Fall, Slip, or Trip Injury      7823\n",
       "Struck or Injured by            4813\n",
       "Cut, Puncture, Scrape           3631\n",
       "Miscellaneous                   3391\n",
       "Caught In, Under, or Between    1342\n",
       "Heat or Cold Exposures          1286\n",
       "Name: case_of_injury_group, dtype: int64"
      ]
     },
     "execution_count": 64,
     "metadata": {},
     "output_type": "execute_result"
    }
   ],
   "source": [
    "check = df3['case_of_injury_group'].value_counts()\n",
    "check"
   ]
  },
  {
   "cell_type": "markdown",
   "metadata": {},
   "source": [
    "## Standardization and Normalization"
   ]
  },
  {
   "cell_type": "code",
   "execution_count": 65,
   "metadata": {},
   "outputs": [],
   "source": [
    "# Standardization of features\n",
    "df3[\"experience_years\"] = (df3[\"experience_years\"]-df3[\"experience_years\"].min()) / (df3[\"experience_years\"].max()-df3[\"experience_years\"].min())\n",
    "df3[\"age_at_accident_date\"] = (df3[\"age_at_accident_date\"]-df3[\"age_at_accident_date\"].min()) / (df3[\"age_at_accident_date\"].max()-df3[\"age_at_accident_date\"].min())"
   ]
  },
  {
   "cell_type": "code",
   "execution_count": 66,
   "metadata": {},
   "outputs": [],
   "source": [
    "from sklearn.preprocessing import LabelEncoder\n",
    "\n",
    "LE = LabelEncoder()\n",
    "\n",
    "df3['market'] = LE.fit_transform(df3['market'])\n",
    "df3['type_of_injury'] = LE.fit_transform(df3['type_of_injury'])\n",
    "df3['case_of_injury_group'] = LE.fit_transform(df3['case_of_injury_group'])\n",
    "df3['nature_of_injury'] = LE.fit_transform(df3['nature_of_injury'])\n",
    "df3['body_part_group'] = LE.fit_transform(df3['body_part_group'])\n",
    "df3['occupation'] = LE.fit_transform(df3['occupation'].astype(str))\n",
    "df3['accident_state'] = LE.fit_transform(df3['accident_state'])\n",
    "df3['sex'] = LE.fit_transform(df3['sex'])\n",
    "df3['classcode'] = LE.fit_transform(df3['classcode'].astype(str))"
   ]
  },
  {
   "cell_type": "code",
   "execution_count": 67,
   "metadata": {},
   "outputs": [],
   "source": [
    "# Standardization\n",
    "\n",
    "df3[\"nature_of_injury\"] = (df3[\"nature_of_injury\"]-df3[\"nature_of_injury\"].min()) / (df3[\"nature_of_injury\"].max()-df3[\"nature_of_injury\"].min())\n",
    "df3[\"accident_state\"] = (df3[\"accident_state\"]-df3[\"accident_state\"].min()) / (df3[\"accident_state\"].max()-df3[\"accident_state\"].min())\n",
    "df3[\"type_of_injury\"] = (df3[\"type_of_injury\"]-df3[\"type_of_injury\"].min()) / (df3[\"type_of_injury\"].max()-df3[\"type_of_injury\"].min())\n",
    "df3[\"occupation\"] = (df3[\"occupation\"]-df3[\"occupation\"].min()) / (df3[\"occupation\"].max()-df3[\"occupation\"].min())\n",
    "df3[\"classcode\"] = (df3[\"classcode\"]-df3[\"classcode\"].min()) / (df3[\"classcode\"].max()-df3[\"classcode\"].min())\n",
    "df3[\"body_part_group\"] = (df3[\"body_part_group\"]-df3[\"body_part_group\"].min()) / (df3[\"body_part_group\"].max()-df3[\"body_part_group\"].min())\n",
    "df3[\"market\"] = (df3[\"market\"]-df3[\"market\"].min()) / (df3[\"market\"].max()-df3[\"market\"].min())\n",
    "df3[\"sex\"] = (df3[\"sex\"]-df3[\"sex\"].min()) / (df3[\"sex\"].max()-df3[\"sex\"].min())"
   ]
  },
  {
   "cell_type": "code",
   "execution_count": 68,
   "metadata": {},
   "outputs": [
    {
     "data": {
      "text/html": [
       "<div>\n",
       "<style scoped>\n",
       "    .dataframe tbody tr th:only-of-type {\n",
       "        vertical-align: middle;\n",
       "    }\n",
       "\n",
       "    .dataframe tbody tr th {\n",
       "        vertical-align: top;\n",
       "    }\n",
       "\n",
       "    .dataframe thead th {\n",
       "        text-align: right;\n",
       "    }\n",
       "</style>\n",
       "<table border=\"1\" class=\"dataframe\">\n",
       "  <thead>\n",
       "    <tr style=\"text-align: right;\">\n",
       "      <th></th>\n",
       "      <th>market</th>\n",
       "      <th>sex</th>\n",
       "      <th>accident_state</th>\n",
       "      <th>classcode</th>\n",
       "      <th>occupation</th>\n",
       "      <th>experience_years</th>\n",
       "      <th>age_at_accident_date</th>\n",
       "      <th>type_of_injury</th>\n",
       "      <th>body_part_group</th>\n",
       "      <th>case_of_injury_group</th>\n",
       "      <th>nature_of_injury</th>\n",
       "    </tr>\n",
       "  </thead>\n",
       "  <tbody>\n",
       "    <tr>\n",
       "      <th>6</th>\n",
       "      <td>0.543478</td>\n",
       "      <td>0.5</td>\n",
       "      <td>0.040816</td>\n",
       "      <td>0.061905</td>\n",
       "      <td>0.462620</td>\n",
       "      <td>0.115312</td>\n",
       "      <td>0.506133</td>\n",
       "      <td>0.000000</td>\n",
       "      <td>0.500000</td>\n",
       "      <td>6</td>\n",
       "      <td>0.680851</td>\n",
       "    </tr>\n",
       "    <tr>\n",
       "      <th>7</th>\n",
       "      <td>0.500000</td>\n",
       "      <td>0.5</td>\n",
       "      <td>0.040816</td>\n",
       "      <td>0.061905</td>\n",
       "      <td>0.520563</td>\n",
       "      <td>0.086700</td>\n",
       "      <td>0.567563</td>\n",
       "      <td>0.333333</td>\n",
       "      <td>0.166667</td>\n",
       "      <td>6</td>\n",
       "      <td>0.680851</td>\n",
       "    </tr>\n",
       "    <tr>\n",
       "      <th>8</th>\n",
       "      <td>0.500000</td>\n",
       "      <td>0.0</td>\n",
       "      <td>0.040816</td>\n",
       "      <td>0.061905</td>\n",
       "      <td>0.636447</td>\n",
       "      <td>0.086386</td>\n",
       "      <td>0.626362</td>\n",
       "      <td>1.000000</td>\n",
       "      <td>0.500000</td>\n",
       "      <td>2</td>\n",
       "      <td>0.680851</td>\n",
       "    </tr>\n",
       "    <tr>\n",
       "      <th>9</th>\n",
       "      <td>0.500000</td>\n",
       "      <td>0.5</td>\n",
       "      <td>0.979592</td>\n",
       "      <td>0.061905</td>\n",
       "      <td>0.223055</td>\n",
       "      <td>0.176466</td>\n",
       "      <td>0.682529</td>\n",
       "      <td>0.333333</td>\n",
       "      <td>0.500000</td>\n",
       "      <td>2</td>\n",
       "      <td>0.680851</td>\n",
       "    </tr>\n",
       "    <tr>\n",
       "      <th>11</th>\n",
       "      <td>0.304348</td>\n",
       "      <td>0.0</td>\n",
       "      <td>0.428571</td>\n",
       "      <td>0.223810</td>\n",
       "      <td>0.475004</td>\n",
       "      <td>0.088036</td>\n",
       "      <td>0.643681</td>\n",
       "      <td>0.333333</td>\n",
       "      <td>1.000000</td>\n",
       "      <td>2</td>\n",
       "      <td>0.680851</td>\n",
       "    </tr>\n",
       "  </tbody>\n",
       "</table>\n",
       "</div>"
      ],
      "text/plain": [
       "      market  sex  accident_state  classcode  occupation  experience_years  \\\n",
       "6   0.543478  0.5        0.040816   0.061905    0.462620          0.115312   \n",
       "7   0.500000  0.5        0.040816   0.061905    0.520563          0.086700   \n",
       "8   0.500000  0.0        0.040816   0.061905    0.636447          0.086386   \n",
       "9   0.500000  0.5        0.979592   0.061905    0.223055          0.176466   \n",
       "11  0.304348  0.0        0.428571   0.223810    0.475004          0.088036   \n",
       "\n",
       "    age_at_accident_date  type_of_injury  body_part_group  \\\n",
       "6               0.506133        0.000000         0.500000   \n",
       "7               0.567563        0.333333         0.166667   \n",
       "8               0.626362        1.000000         0.500000   \n",
       "9               0.682529        0.333333         0.500000   \n",
       "11              0.643681        0.333333         1.000000   \n",
       "\n",
       "    case_of_injury_group  nature_of_injury  \n",
       "6                      6          0.680851  \n",
       "7                      6          0.680851  \n",
       "8                      2          0.680851  \n",
       "9                      2          0.680851  \n",
       "11                     2          0.680851  "
      ]
     },
     "execution_count": 68,
     "metadata": {},
     "output_type": "execute_result"
    }
   ],
   "source": [
    "df3.head()"
   ]
  },
  {
   "cell_type": "code",
   "execution_count": 69,
   "metadata": {},
   "outputs": [
    {
     "data": {
      "text/html": [
       "<div>\n",
       "<style scoped>\n",
       "    .dataframe tbody tr th:only-of-type {\n",
       "        vertical-align: middle;\n",
       "    }\n",
       "\n",
       "    .dataframe tbody tr th {\n",
       "        vertical-align: top;\n",
       "    }\n",
       "\n",
       "    .dataframe thead th {\n",
       "        text-align: right;\n",
       "    }\n",
       "</style>\n",
       "<table border=\"1\" class=\"dataframe\">\n",
       "  <thead>\n",
       "    <tr style=\"text-align: right;\">\n",
       "      <th></th>\n",
       "      <th>market</th>\n",
       "      <th>sex</th>\n",
       "      <th>accident_state</th>\n",
       "      <th>classcode</th>\n",
       "      <th>occupation</th>\n",
       "      <th>experience_years</th>\n",
       "      <th>age_at_accident_date</th>\n",
       "      <th>type_of_injury</th>\n",
       "      <th>body_part_group</th>\n",
       "      <th>case_of_injury_group</th>\n",
       "      <th>nature_of_injury</th>\n",
       "    </tr>\n",
       "  </thead>\n",
       "  <tbody>\n",
       "    <tr>\n",
       "      <th>market</th>\n",
       "      <td>1.000000</td>\n",
       "      <td>-0.029547</td>\n",
       "      <td>0.127732</td>\n",
       "      <td>0.167379</td>\n",
       "      <td>0.008799</td>\n",
       "      <td>0.034603</td>\n",
       "      <td>0.024502</td>\n",
       "      <td>0.017040</td>\n",
       "      <td>0.014651</td>\n",
       "      <td>-0.034921</td>\n",
       "      <td>0.003938</td>\n",
       "    </tr>\n",
       "    <tr>\n",
       "      <th>sex</th>\n",
       "      <td>-0.029547</td>\n",
       "      <td>1.000000</td>\n",
       "      <td>0.025350</td>\n",
       "      <td>-0.007712</td>\n",
       "      <td>0.096987</td>\n",
       "      <td>0.071661</td>\n",
       "      <td>0.017974</td>\n",
       "      <td>0.029585</td>\n",
       "      <td>-0.017076</td>\n",
       "      <td>0.005044</td>\n",
       "      <td>0.022279</td>\n",
       "    </tr>\n",
       "    <tr>\n",
       "      <th>accident_state</th>\n",
       "      <td>0.127732</td>\n",
       "      <td>0.025350</td>\n",
       "      <td>1.000000</td>\n",
       "      <td>0.045096</td>\n",
       "      <td>0.035076</td>\n",
       "      <td>0.001369</td>\n",
       "      <td>-0.012417</td>\n",
       "      <td>0.015951</td>\n",
       "      <td>0.014320</td>\n",
       "      <td>-0.006592</td>\n",
       "      <td>0.011168</td>\n",
       "    </tr>\n",
       "    <tr>\n",
       "      <th>classcode</th>\n",
       "      <td>0.167379</td>\n",
       "      <td>-0.007712</td>\n",
       "      <td>0.045096</td>\n",
       "      <td>1.000000</td>\n",
       "      <td>0.024347</td>\n",
       "      <td>0.034399</td>\n",
       "      <td>0.049244</td>\n",
       "      <td>0.013181</td>\n",
       "      <td>-0.032268</td>\n",
       "      <td>0.017104</td>\n",
       "      <td>0.011894</td>\n",
       "    </tr>\n",
       "    <tr>\n",
       "      <th>occupation</th>\n",
       "      <td>0.008799</td>\n",
       "      <td>0.096987</td>\n",
       "      <td>0.035076</td>\n",
       "      <td>0.024347</td>\n",
       "      <td>1.000000</td>\n",
       "      <td>0.018139</td>\n",
       "      <td>0.005189</td>\n",
       "      <td>-0.010795</td>\n",
       "      <td>0.002692</td>\n",
       "      <td>0.014700</td>\n",
       "      <td>0.010889</td>\n",
       "    </tr>\n",
       "    <tr>\n",
       "      <th>experience_years</th>\n",
       "      <td>0.034603</td>\n",
       "      <td>0.071661</td>\n",
       "      <td>0.001369</td>\n",
       "      <td>0.034399</td>\n",
       "      <td>0.018139</td>\n",
       "      <td>1.000000</td>\n",
       "      <td>0.387771</td>\n",
       "      <td>0.015696</td>\n",
       "      <td>0.007108</td>\n",
       "      <td>0.008893</td>\n",
       "      <td>0.023711</td>\n",
       "    </tr>\n",
       "    <tr>\n",
       "      <th>age_at_accident_date</th>\n",
       "      <td>0.024502</td>\n",
       "      <td>0.017974</td>\n",
       "      <td>-0.012417</td>\n",
       "      <td>0.049244</td>\n",
       "      <td>0.005189</td>\n",
       "      <td>0.387771</td>\n",
       "      <td>1.000000</td>\n",
       "      <td>0.109974</td>\n",
       "      <td>0.005701</td>\n",
       "      <td>0.004951</td>\n",
       "      <td>0.041832</td>\n",
       "    </tr>\n",
       "    <tr>\n",
       "      <th>type_of_injury</th>\n",
       "      <td>0.017040</td>\n",
       "      <td>0.029585</td>\n",
       "      <td>0.015951</td>\n",
       "      <td>0.013181</td>\n",
       "      <td>-0.010795</td>\n",
       "      <td>0.015696</td>\n",
       "      <td>0.109974</td>\n",
       "      <td>1.000000</td>\n",
       "      <td>0.035881</td>\n",
       "      <td>0.018020</td>\n",
       "      <td>0.065471</td>\n",
       "    </tr>\n",
       "    <tr>\n",
       "      <th>body_part_group</th>\n",
       "      <td>0.014651</td>\n",
       "      <td>-0.017076</td>\n",
       "      <td>0.014320</td>\n",
       "      <td>-0.032268</td>\n",
       "      <td>0.002692</td>\n",
       "      <td>0.007108</td>\n",
       "      <td>0.005701</td>\n",
       "      <td>0.035881</td>\n",
       "      <td>1.000000</td>\n",
       "      <td>-0.089539</td>\n",
       "      <td>0.212453</td>\n",
       "    </tr>\n",
       "    <tr>\n",
       "      <th>case_of_injury_group</th>\n",
       "      <td>-0.034921</td>\n",
       "      <td>0.005044</td>\n",
       "      <td>-0.006592</td>\n",
       "      <td>0.017104</td>\n",
       "      <td>0.014700</td>\n",
       "      <td>0.008893</td>\n",
       "      <td>0.004951</td>\n",
       "      <td>0.018020</td>\n",
       "      <td>-0.089539</td>\n",
       "      <td>1.000000</td>\n",
       "      <td>0.139517</td>\n",
       "    </tr>\n",
       "    <tr>\n",
       "      <th>nature_of_injury</th>\n",
       "      <td>0.003938</td>\n",
       "      <td>0.022279</td>\n",
       "      <td>0.011168</td>\n",
       "      <td>0.011894</td>\n",
       "      <td>0.010889</td>\n",
       "      <td>0.023711</td>\n",
       "      <td>0.041832</td>\n",
       "      <td>0.065471</td>\n",
       "      <td>0.212453</td>\n",
       "      <td>0.139517</td>\n",
       "      <td>1.000000</td>\n",
       "    </tr>\n",
       "  </tbody>\n",
       "</table>\n",
       "</div>"
      ],
      "text/plain": [
       "                        market       sex  accident_state  classcode  \\\n",
       "market                1.000000 -0.029547        0.127732   0.167379   \n",
       "sex                  -0.029547  1.000000        0.025350  -0.007712   \n",
       "accident_state        0.127732  0.025350        1.000000   0.045096   \n",
       "classcode             0.167379 -0.007712        0.045096   1.000000   \n",
       "occupation            0.008799  0.096987        0.035076   0.024347   \n",
       "experience_years      0.034603  0.071661        0.001369   0.034399   \n",
       "age_at_accident_date  0.024502  0.017974       -0.012417   0.049244   \n",
       "type_of_injury        0.017040  0.029585        0.015951   0.013181   \n",
       "body_part_group       0.014651 -0.017076        0.014320  -0.032268   \n",
       "case_of_injury_group -0.034921  0.005044       -0.006592   0.017104   \n",
       "nature_of_injury      0.003938  0.022279        0.011168   0.011894   \n",
       "\n",
       "                      occupation  experience_years  age_at_accident_date  \\\n",
       "market                  0.008799          0.034603              0.024502   \n",
       "sex                     0.096987          0.071661              0.017974   \n",
       "accident_state          0.035076          0.001369             -0.012417   \n",
       "classcode               0.024347          0.034399              0.049244   \n",
       "occupation              1.000000          0.018139              0.005189   \n",
       "experience_years        0.018139          1.000000              0.387771   \n",
       "age_at_accident_date    0.005189          0.387771              1.000000   \n",
       "type_of_injury         -0.010795          0.015696              0.109974   \n",
       "body_part_group         0.002692          0.007108              0.005701   \n",
       "case_of_injury_group    0.014700          0.008893              0.004951   \n",
       "nature_of_injury        0.010889          0.023711              0.041832   \n",
       "\n",
       "                      type_of_injury  body_part_group  case_of_injury_group  \\\n",
       "market                      0.017040         0.014651             -0.034921   \n",
       "sex                         0.029585        -0.017076              0.005044   \n",
       "accident_state              0.015951         0.014320             -0.006592   \n",
       "classcode                   0.013181        -0.032268              0.017104   \n",
       "occupation                 -0.010795         0.002692              0.014700   \n",
       "experience_years            0.015696         0.007108              0.008893   \n",
       "age_at_accident_date        0.109974         0.005701              0.004951   \n",
       "type_of_injury              1.000000         0.035881              0.018020   \n",
       "body_part_group             0.035881         1.000000             -0.089539   \n",
       "case_of_injury_group        0.018020        -0.089539              1.000000   \n",
       "nature_of_injury            0.065471         0.212453              0.139517   \n",
       "\n",
       "                      nature_of_injury  \n",
       "market                        0.003938  \n",
       "sex                           0.022279  \n",
       "accident_state                0.011168  \n",
       "classcode                     0.011894  \n",
       "occupation                    0.010889  \n",
       "experience_years              0.023711  \n",
       "age_at_accident_date          0.041832  \n",
       "type_of_injury                0.065471  \n",
       "body_part_group               0.212453  \n",
       "case_of_injury_group          0.139517  \n",
       "nature_of_injury              1.000000  "
      ]
     },
     "execution_count": 69,
     "metadata": {},
     "output_type": "execute_result"
    }
   ],
   "source": [
    "# Feature Correlation\n",
    "df3.corr(method ='pearson')"
   ]
  },
  {
   "cell_type": "markdown",
   "metadata": {},
   "source": [
    "## Data Separation"
   ]
  },
  {
   "cell_type": "code",
   "execution_count": 70,
   "metadata": {},
   "outputs": [],
   "source": [
    "features = df3.drop('case_of_injury_group', 1)\n",
    "labels = df3[['case_of_injury_group']]"
   ]
  },
  {
   "cell_type": "code",
   "execution_count": 71,
   "metadata": {},
   "outputs": [
    {
     "data": {
      "text/plain": [
       "(31730, 10)"
      ]
     },
     "execution_count": 71,
     "metadata": {},
     "output_type": "execute_result"
    }
   ],
   "source": [
    "features.shape"
   ]
  },
  {
   "cell_type": "code",
   "execution_count": 72,
   "metadata": {},
   "outputs": [
    {
     "name": "stdout",
     "output_type": "stream",
     "text": [
      "Number of train and test data:\n",
      "25384 6346\n"
     ]
    }
   ],
   "source": [
    "# Splitting data into train and test\n",
    "from sklearn.model_selection import train_test_split\n",
    "X_train, X_test, Y_train, Y_test = train_test_split(features, labels, test_size=0.2, random_state=42)\n",
    "number_of_train = X_train.shape[0]\n",
    "number_of_test = X_test.shape[0]\n",
    "print('Number of train and test data:')\n",
    "print(number_of_train, number_of_test)"
   ]
  },
  {
   "cell_type": "code",
   "execution_count": 73,
   "metadata": {},
   "outputs": [
    {
     "name": "stdout",
     "output_type": "stream",
     "text": [
      "(31874, 10) (31874,)\n"
     ]
    },
    {
     "name": "stderr",
     "output_type": "stream",
     "text": [
      "C:\\Users\\SUJITH KUMAR\\Anaconda3\\lib\\site-packages\\sklearn\\utils\\validation.py:761: DataConversionWarning: A column-vector y was passed when a 1d array was expected. Please change the shape of y to (n_samples, ), for example using ravel().\n",
      "  y = column_or_1d(y, warn=True)\n"
     ]
    }
   ],
   "source": [
    "from imblearn.over_sampling import SMOTE\n",
    "sm = SMOTE('minority')\n",
    "x_train_res, y_train_res = sm.fit_sample(X_train, Y_train)\n",
    "print(x_train_res.shape, y_train_res.shape)"
   ]
  },
  {
   "cell_type": "code",
   "execution_count": 74,
   "metadata": {},
   "outputs": [
    {
     "data": {
      "text/plain": [
       "array([[0., 0., 1., 0., 0., 0., 0.],\n",
       "       [0., 1., 0., 0., 0., 0., 0.],\n",
       "       [0., 0., 1., 0., 0., 0., 0.],\n",
       "       [0., 0., 0., 0., 0., 1., 0.],\n",
       "       [0., 0., 0., 0., 0., 1., 0.]], dtype=float32)"
      ]
     },
     "execution_count": 74,
     "metadata": {},
     "output_type": "execute_result"
    }
   ],
   "source": [
    "from keras.utils import to_categorical\n",
    "#one-hot encode target column\n",
    "train_y_2 = to_categorical(Y_train)\n",
    "test_y_2 = to_categorical(Y_test)\n",
    "\n",
    "#vcheck that target column has been converted\n",
    "train_y_2[0:5]"
   ]
  },
  {
   "cell_type": "code",
   "execution_count": 75,
   "metadata": {},
   "outputs": [],
   "source": [
    "from keras.models import Sequential\n",
    "from keras.layers import Dense, Dropout, Activation\n",
    "from keras.optimizers import SGD\n",
    "from keras.utils.vis_utils import plot_model\n",
    "\n",
    "#create model\n",
    "model = Sequential()\n",
    "\n",
    "#get number of columns in training data\n",
    "n_cols = X_train.shape[1]\n",
    "\n",
    "#add layers to model\n",
    "model.add(Dense(200, activation='relu', input_shape=(n_cols,)))\n",
    "model.add(Dense(200, activation='relu'))\n",
    "model.add(Dense(200, activation='relu'))\n",
    "model.add(Dense(200, activation='relu'))\n",
    "model.add(Dense(200, activation='relu'))\n",
    "model.add(Dense(200, activation='relu'))\n",
    "\n",
    "model.add(Dense(7, activation='softmax'))\n"
   ]
  },
  {
   "cell_type": "code",
   "execution_count": 76,
   "metadata": {},
   "outputs": [],
   "source": [
    "#compile model using accuracy to measure model performance\n",
    "model.compile(optimizer='adam', loss='categorical_crossentropy', metrics=['accuracy'])"
   ]
  },
  {
   "cell_type": "code",
   "execution_count": 77,
   "metadata": {},
   "outputs": [
    {
     "name": "stdout",
     "output_type": "stream",
     "text": [
      "Train on 20307 samples, validate on 5077 samples\n",
      "Epoch 1/20\n",
      "20307/20307 [==============================] - 3s 164us/step - loss: 1.2975 - acc: 0.4929 - val_loss: 1.1370 - val_acc: 0.5663\n",
      "Epoch 2/20\n",
      "20307/20307 [==============================] - 3s 124us/step - loss: 1.1249 - acc: 0.5681 - val_loss: 1.0959 - val_acc: 0.5917\n",
      "Epoch 3/20\n",
      "20307/20307 [==============================] - 2s 120us/step - loss: 1.0956 - acc: 0.5769 - val_loss: 1.0963 - val_acc: 0.5623\n",
      "Epoch 4/20\n",
      "20307/20307 [==============================] - 2s 122us/step - loss: 1.0715 - acc: 0.5907 - val_loss: 1.0665 - val_acc: 0.5954\n",
      "Epoch 5/20\n",
      "20307/20307 [==============================] - 3s 124us/step - loss: 1.0581 - acc: 0.5909 - val_loss: 1.0169 - val_acc: 0.6102\n",
      "Epoch 6/20\n",
      "20307/20307 [==============================] - 2s 114us/step - loss: 1.0529 - acc: 0.5961 - val_loss: 1.0175 - val_acc: 0.6139\n",
      "Epoch 7/20\n",
      "20307/20307 [==============================] - 2s 118us/step - loss: 1.0378 - acc: 0.6016 - val_loss: 1.0111 - val_acc: 0.6108\n",
      "Epoch 8/20\n",
      "20307/20307 [==============================] - 2s 117us/step - loss: 1.0297 - acc: 0.6026 - val_loss: 1.0103 - val_acc: 0.6102\n",
      "Epoch 9/20\n",
      "20307/20307 [==============================] - 2s 115us/step - loss: 1.0216 - acc: 0.6113 - val_loss: 1.0034 - val_acc: 0.6090\n",
      "Epoch 10/20\n",
      "20307/20307 [==============================] - 2s 117us/step - loss: 1.0153 - acc: 0.6098 - val_loss: 0.9926 - val_acc: 0.6246\n",
      "Epoch 11/20\n",
      "20307/20307 [==============================] - 2s 119us/step - loss: 1.0147 - acc: 0.6114 - val_loss: 1.0153 - val_acc: 0.6088\n",
      "Epoch 12/20\n",
      "20307/20307 [==============================] - 2s 119us/step - loss: 1.0253 - acc: 0.6092 - val_loss: 1.0366 - val_acc: 0.5968\n",
      "Epoch 13/20\n",
      "20307/20307 [==============================] - 2s 121us/step - loss: 1.0031 - acc: 0.6144 - val_loss: 0.9857 - val_acc: 0.6157\n",
      "Epoch 14/20\n",
      "20307/20307 [==============================] - 2s 122us/step - loss: 0.9990 - acc: 0.6143 - val_loss: 0.9734 - val_acc: 0.6167\n",
      "Epoch 15/20\n",
      "20307/20307 [==============================] - 2s 121us/step - loss: 0.9988 - acc: 0.6172 - val_loss: 1.0216 - val_acc: 0.5996\n",
      "Epoch 16/20\n",
      "20307/20307 [==============================] - 2s 115us/step - loss: 0.9959 - acc: 0.6168 - val_loss: 0.9859 - val_acc: 0.6139\n",
      "Epoch 17/20\n",
      "20307/20307 [==============================] - 2s 119us/step - loss: 0.9872 - acc: 0.6188 - val_loss: 0.9911 - val_acc: 0.6035\n",
      "Epoch 18/20\n",
      "20307/20307 [==============================] - 2s 118us/step - loss: 0.9883 - acc: 0.6173 - val_loss: 0.9792 - val_acc: 0.6128\n",
      "Epoch 19/20\n",
      "20307/20307 [==============================] - 2s 123us/step - loss: 0.9967 - acc: 0.6167 - val_loss: 0.9761 - val_acc: 0.6258\n",
      "Epoch 20/20\n",
      "20307/20307 [==============================] - 3s 127us/step - loss: 0.9825 - acc: 0.6223 - val_loss: 0.9803 - val_acc: 0.6201\n"
     ]
    },
    {
     "data": {
      "text/plain": [
       "<keras.callbacks.History at 0x22105969518>"
      ]
     },
     "execution_count": 77,
     "metadata": {},
     "output_type": "execute_result"
    }
   ],
   "source": [
    "from keras.callbacks import EarlyStopping \n",
    "early_stopping_monitor = EarlyStopping(patience=10)\n",
    "\n",
    "#train model\n",
    "model.fit(X_train, train_y_2, epochs=20, validation_split=0.2, callbacks=[early_stopping_monitor])"
   ]
  },
  {
   "cell_type": "code",
   "execution_count": 78,
   "metadata": {},
   "outputs": [
    {
     "name": "stdout",
     "output_type": "stream",
     "text": [
      "_________________________________________________________________\n",
      "Layer (type)                 Output Shape              Param #   \n",
      "=================================================================\n",
      "dense_15 (Dense)             (None, 200)               2200      \n",
      "_________________________________________________________________\n",
      "dense_16 (Dense)             (None, 200)               40200     \n",
      "_________________________________________________________________\n",
      "dense_17 (Dense)             (None, 200)               40200     \n",
      "_________________________________________________________________\n",
      "dense_18 (Dense)             (None, 200)               40200     \n",
      "_________________________________________________________________\n",
      "dense_19 (Dense)             (None, 200)               40200     \n",
      "_________________________________________________________________\n",
      "dense_20 (Dense)             (None, 200)               40200     \n",
      "_________________________________________________________________\n",
      "dense_21 (Dense)             (None, 7)                 1407      \n",
      "=================================================================\n",
      "Total params: 204,607\n",
      "Trainable params: 204,607\n",
      "Non-trainable params: 0\n",
      "_________________________________________________________________\n"
     ]
    }
   ],
   "source": [
    "model.summary()"
   ]
  },
  {
   "cell_type": "code",
   "execution_count": 79,
   "metadata": {},
   "outputs": [],
   "source": [
    "y_score = model.predict(X_test)"
   ]
  },
  {
   "cell_type": "code",
   "execution_count": 80,
   "metadata": {},
   "outputs": [
    {
     "name": "stdout",
     "output_type": "stream",
     "text": [
      "[[   8   48   51    5   18   19  101]\n",
      " [   1  685   15    0   14    4   17]\n",
      " [   2   60  519    0  108  655  171]\n",
      " [   0   10    9  216   22    3    4]\n",
      " [   6   46   42   15  486   45   49]\n",
      " [   5   15   47    8   74 1766   17]\n",
      " [   0  185  222    1  122  105  325]]\n"
     ]
    }
   ],
   "source": [
    "from sklearn.metrics import confusion_matrix\n",
    "cnf_matrix = confusion_matrix(test_y_2.argmax(axis=1), y_score.argmax(axis=1))\n",
    "print(cnf_matrix)"
   ]
  },
  {
   "cell_type": "code",
   "execution_count": 81,
   "metadata": {},
   "outputs": [],
   "source": [
    "import numpy as np\n",
    "from scipy import interp\n",
    "import matplotlib.pyplot as plt\n",
    "from itertools import cycle\n",
    "from sklearn.metrics import roc_curve, auc"
   ]
  },
  {
   "cell_type": "code",
   "execution_count": 82,
   "metadata": {},
   "outputs": [
    {
     "name": "stdout",
     "output_type": "stream",
     "text": [
      "Normalized confusion matrix\n"
     ]
    },
    {
     "data": {
      "image/png": "[encoded data removed]",
      "text/plain": [
       "<Figure size 1008x864 with 2 Axes>"
      ]
     },
     "metadata": {
      "needs_background": "light"
     },
     "output_type": "display_data"
    }
   ],
   "source": [
    "import matplotlib.pyplot as plt\n",
    "def plot_confusion_matrix(cm, classes,\n",
    "                          normalize=False,\n",
    "                          title='Confusion matrix',\n",
    "                          cmap=plt.cm.Blues):\n",
    "    \"\"\"\n",
    "    This function prints and plots the confusion matrix.\n",
    "    Normalization can be applied by setting `normalize=True`.\n",
    "    \"\"\"\n",
    "    import itertools  \n",
    "    import matplotlib.pyplot as plt\n",
    "    if normalize:\n",
    "        cm = cm.astype('float') / cm.sum(axis=1)[:, np.newaxis]\n",
    "        print(\"Normalized confusion matrix\")\n",
    "    else:\n",
    "        print('Confusion matrix, without normalization')\n",
    "\n",
    "    # print(cm)\n",
    "\n",
    "    plt.imshow(cm, interpolation='nearest', cmap=cmap)\n",
    "    plt.title(title)\n",
    "    plt.colorbar()\n",
    "    tick_marks = np.arange(len(classes))\n",
    "    plt.xticks(tick_marks, classes, rotation=90)\n",
    "    plt.yticks(tick_marks, classes)\n",
    "\n",
    "    fmt = '.2f' if normalize else 'd'\n",
    "    thresh = cm.max() / 2.\n",
    "    for i, j in itertools.product(range(cm.shape[0]), range(cm.shape[1])):\n",
    "        plt.text(j, i, format(cm[i, j], fmt),\n",
    "                 horizontalalignment=\"center\",\n",
    "                 color=\"white\" if cm[i, j] > thresh else \"black\")\n",
    "\n",
    "    plt.tight_layout()\n",
    "    plt.ylabel('True label')\n",
    "    plt.xlabel('Predicted label')\n",
    "\n",
    "\n",
    "#y_pred = model.predict(x_test);\n",
    "#cnf_matrix = confusion_matrix(np.argmax(y_test, axis=1), np.argmax(y_pred, axis=1))\n",
    "\n",
    "# Plot normalized confusion matrix\n",
    "fig = plt.figure()\n",
    "fig.set_size_inches(14, 12, forward=True)\n",
    "#fig.align_labels()\n",
    "\n",
    "# fig.subplots_adjust(left=0.0, right=1.0, bottom=0.0, top=1.0)\n",
    "plot_confusion_matrix(cnf_matrix, classes=np.asarray(text_label), normalize=True,\n",
    "                      title='Normalized confusion matrix')\n",
    "\n",
    "#fig.savefig(\"txt_classification-smote\" + str(num_epochs) + \".png\", pad_inches=5.0)\n"
   ]
  },
  {
   "cell_type": "code",
   "execution_count": 83,
   "metadata": {},
   "outputs": [
    {
     "data": {
      "image/png": "[encoded data removed]",
      "text/plain": [
       "<Figure size 432x288 with 1 Axes>"
      ]
     },
     "metadata": {
      "needs_background": "light"
     },
     "output_type": "display_data"
    },
    {
     "data": {
      "image/png": "[encoded data removed]",
      "text/plain": [
       "<Figure size 432x288 with 1 Axes>"
      ]
     },
     "metadata": {
      "needs_background": "light"
     },
     "output_type": "display_data"
    }
   ],
   "source": [
    "import numpy as np\n",
    "from scipy import interp\n",
    "import matplotlib.pyplot as plt\n",
    "from itertools import cycle\n",
    "from sklearn.metrics import roc_curve, auc\n",
    "\n",
    "# Plot linewidth.\n",
    "lw = 2\n",
    "n_classes = 7\n",
    "\n",
    "# Compute ROC curve and ROC area for each class\n",
    "fpr = dict()\n",
    "tpr = dict()\n",
    "roc_auc = dict()\n",
    "for i in range(n_classes):\n",
    "    fpr[i], tpr[i], _ = roc_curve(test_y_2[:, i], y_score[:, i])\n",
    "    roc_auc[i] = auc(fpr[i], tpr[i])\n",
    "\n",
    "# Compute micro-average ROC curve and ROC area\n",
    "fpr[\"micro\"], tpr[\"micro\"], _ = roc_curve(test_y_2.ravel(), y_score.ravel())\n",
    "roc_auc[\"micro\"] = auc(fpr[\"micro\"], tpr[\"micro\"])\n",
    "\n",
    "# Compute macro-average ROC curve and ROC area\n",
    "\n",
    "# First aggregate all false positive rates\n",
    "all_fpr = np.unique(np.concatenate([fpr[i] for i in range(n_classes)]))\n",
    "\n",
    "# Then interpolate all ROC curves at this points\n",
    "mean_tpr = np.zeros_like(all_fpr)\n",
    "for i in range(n_classes):\n",
    "    mean_tpr += interp(all_fpr, fpr[i], tpr[i])\n",
    "\n",
    "# Finally average it and compute AUC\n",
    "mean_tpr /= n_classes\n",
    "\n",
    "fpr[\"macro\"] = all_fpr\n",
    "tpr[\"macro\"] = mean_tpr\n",
    "roc_auc[\"macro\"] = auc(fpr[\"macro\"], tpr[\"macro\"])\n",
    "\n",
    "# Plot all ROC curves\n",
    "plt.figure(1)\n",
    "plt.plot(fpr[\"micro\"], tpr[\"micro\"],\n",
    "         label='micro-average ROC curve (area = {0:0.2f})'\n",
    "               ''.format(roc_auc[\"micro\"]),\n",
    "         color='deeppink', linestyle=':', linewidth=4)\n",
    "\n",
    "plt.plot(fpr[\"macro\"], tpr[\"macro\"],\n",
    "         label='macro-average ROC curve (area = {0:0.2f})'\n",
    "               ''.format(roc_auc[\"macro\"]),\n",
    "         color='navy', linestyle=':', linewidth=4)\n",
    "\n",
    "colors = cycle(['aqua', 'darkorange', 'cornflowerblue'])\n",
    "for i, color in zip(range(n_classes), colors):\n",
    "    plt.plot(fpr[i], tpr[i], color=color, lw=lw,\n",
    "             label='ROC curve of class {0} (area = {1:0.2f})'\n",
    "             ''.format(i, roc_auc[i]))\n",
    "\n",
    "plt.plot([0, 1], [0, 1], 'k--', lw=lw)\n",
    "plt.xlim([0.0, 1.0])\n",
    "plt.ylim([0.0, 1.05])\n",
    "plt.xlabel('False Positive Rate')\n",
    "plt.ylabel('True Positive Rate')\n",
    "plt.title('Some extension of Receiver operating characteristic to multi-class')\n",
    "plt.legend(loc=\"lower right\")\n",
    "plt.show()\n",
    "\n",
    "\n",
    "# Zoom in view of the upper left corner.\n",
    "plt.figure(2)\n",
    "plt.xlim(0, 0.2)\n",
    "plt.ylim(0.8, 1)\n",
    "plt.plot(fpr[\"micro\"], tpr[\"micro\"],\n",
    "         label='micro-average ROC curve (area = {0:0.2f})'\n",
    "               ''.format(roc_auc[\"micro\"]),\n",
    "         color='deeppink', linestyle=':', linewidth=4)\n",
    "\n",
    "plt.plot(fpr[\"macro\"], tpr[\"macro\"],\n",
    "         label='macro-average ROC curve (area = {0:0.2f})'\n",
    "               ''.format(roc_auc[\"macro\"]),\n",
    "         color='navy', linestyle=':', linewidth=4)\n",
    "\n",
    "colors = cycle(['aqua', 'darkorange', 'cornflowerblue'])\n",
    "for i, color in zip(range(n_classes), colors):\n",
    "    plt.plot(fpr[i], tpr[i], color=color, lw=lw,\n",
    "             label='ROC curve of class {0} (area = {1:0.2f})'\n",
    "             ''.format(i, roc_auc[i]))\n",
    "\n",
    "plt.plot([0, 1], [0, 1], 'k--', lw=lw)\n",
    "plt.xlabel('False Positive Rate')\n",
    "plt.ylabel('True Positive Rate')\n",
    "plt.title('Some extension of Receiver operating characteristic to multi-class')\n",
    "plt.legend(loc=\"lower right\")\n",
    "plt.show()"
   ]
  },
  {
   "cell_type": "code",
   "execution_count": null,
   "metadata": {},
   "outputs": [],
   "source": []
  }
 ],
 "metadata": {
  "kernelspec": {
   "display_name": "Python 3",
   "language": "python",
   "name": "python3"
  },
  "language_info": {
   "codemirror_mode": {
    "name": "ipython",
    "version": 3
   },
   "file_extension": ".py",
   "mimetype": "text/x-python",
   "name": "python",
   "nbconvert_exporter": "python",
   "pygments_lexer": "ipython3",
   "version": "3.6.8"
  }
 },
 "nbformat": 4,
 "nbformat_minor": 2
}
